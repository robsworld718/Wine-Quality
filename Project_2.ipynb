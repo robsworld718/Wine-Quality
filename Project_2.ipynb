{
  "nbformat": 4,
  "nbformat_minor": 0,
  "metadata": {
    "colab": {
      "name": "Project_2.ipynb",
      "provenance": [],
      "collapsed_sections": [],
      "authorship_tag": "ABX9TyMUK02DFK4m+xj6bJMDWlb1",
      "include_colab_link": true
    },
    "kernelspec": {
      "name": "python3",
      "display_name": "Python 3"
    },
    "language_info": {
      "name": "python"
    }
  },
  "cells": [
    {
      "cell_type": "markdown",
      "metadata": {
        "id": "view-in-github",
        "colab_type": "text"
      },
      "source": [
        "<a href=\"https://colab.research.google.com/github/robsworld718/Wine-Quality/blob/main/Project_2.ipynb\" target=\"_parent\"><img src=\"https://colab.research.google.com/assets/colab-badge.svg\" alt=\"Open In Colab\"/></a>"
      ]
    },
    {
      "cell_type": "code",
      "execution_count": 1,
      "metadata": {
        "colab": {
          "base_uri": "https://localhost:8080/"
        },
        "id": "2r5TwUjhik_H",
        "outputId": "574e052a-0bd3-4576-a45c-5fdac46ff9e3"
      },
      "outputs": [
        {
          "output_type": "stream",
          "name": "stdout",
          "text": [
            "Drive already mounted at /content/drive; to attempt to forcibly remount, call drive.mount(\"/content/drive\", force_remount=True).\n"
          ]
        }
      ],
      "source": [
        "from google.colab import drive\n",
        "drive.mount('/content/drive')"
      ]
    },
    {
      "cell_type": "code",
      "source": [
        "import pandas as pd\n",
        "import numpy as np\n",
        "import matplotlib.pyplot as plt\n",
        "import seaborn as sns\n",
        "import matplotlib.pyplot as plt\n",
        "from sklearn.model_selection import train_test_split, GridSearchCV\n",
        "from sklearn.preprocessing import StandardScaler\n",
        "from sklearn.preprocessing import OneHotEncoder\n",
        "from sklearn.impute import SimpleImputer\n",
        "from sklearn.compose import make_column_transformer, make_column_selector\n",
        "from sklearn.pipeline import make_pipeline\n",
        "from sklearn.linear_model import LinearRegression\n",
        "from sklearn.linear_model import LogisticRegression\n",
        "from sklearn.tree import DecisionTreeRegressor\n",
        "from sklearn.dummy import DummyRegressor\n",
        "from sklearn.datasets import make_regression\n",
        "from sklearn.metrics import r2_score"
      ],
      "metadata": {
        "id": "N_D9oq5-irhk"
      },
      "execution_count": 2,
      "outputs": []
    },
    {
      "cell_type": "code",
      "source": [
        "WineQ_df = pd.read_csv('/content/WineQT.csv', index_col=False)\n",
        "WineQ_df.head()"
      ],
      "metadata": {
        "colab": {
          "base_uri": "https://localhost:8080/",
          "height": 206
        },
        "id": "W6GOsLZpi1gk",
        "outputId": "6d5a4359-9cac-42ce-8430-c8ef1606cc00"
      },
      "execution_count": 3,
      "outputs": [
        {
          "output_type": "execute_result",
          "data": {
            "text/plain": [
              "   fixed acidity  volatile acidity  citric acid  residual sugar  chlorides  \\\n",
              "0            7.4              0.70         0.00             1.9      0.076   \n",
              "1            7.8              0.88         0.00             2.6      0.098   \n",
              "2            7.8              0.76         0.04             2.3      0.092   \n",
              "3           11.2              0.28         0.56             1.9      0.075   \n",
              "4            7.4              0.70         0.00             1.9      0.076   \n",
              "\n",
              "   free sulfur dioxide  total sulfur dioxide  density    pH  sulphates  \\\n",
              "0                 11.0                  34.0   0.9978  3.51       0.56   \n",
              "1                 25.0                  67.0   0.9968  3.20       0.68   \n",
              "2                 15.0                  54.0   0.9970  3.26       0.65   \n",
              "3                 17.0                  60.0   0.9980  3.16       0.58   \n",
              "4                 11.0                  34.0   0.9978  3.51       0.56   \n",
              "\n",
              "   alcohol  quality  Id  \n",
              "0      9.4        5   0  \n",
              "1      9.8        5   1  \n",
              "2      9.8        5   2  \n",
              "3      9.8        6   3  \n",
              "4      9.4        5   4  "
            ],
            "text/html": [
              "\n",
              "  <div id=\"df-4fd5be93-6c37-4859-be16-530da8a125c2\">\n",
              "    <div class=\"colab-df-container\">\n",
              "      <div>\n",
              "<style scoped>\n",
              "    .dataframe tbody tr th:only-of-type {\n",
              "        vertical-align: middle;\n",
              "    }\n",
              "\n",
              "    .dataframe tbody tr th {\n",
              "        vertical-align: top;\n",
              "    }\n",
              "\n",
              "    .dataframe thead th {\n",
              "        text-align: right;\n",
              "    }\n",
              "</style>\n",
              "<table border=\"1\" class=\"dataframe\">\n",
              "  <thead>\n",
              "    <tr style=\"text-align: right;\">\n",
              "      <th></th>\n",
              "      <th>fixed acidity</th>\n",
              "      <th>volatile acidity</th>\n",
              "      <th>citric acid</th>\n",
              "      <th>residual sugar</th>\n",
              "      <th>chlorides</th>\n",
              "      <th>free sulfur dioxide</th>\n",
              "      <th>total sulfur dioxide</th>\n",
              "      <th>density</th>\n",
              "      <th>pH</th>\n",
              "      <th>sulphates</th>\n",
              "      <th>alcohol</th>\n",
              "      <th>quality</th>\n",
              "      <th>Id</th>\n",
              "    </tr>\n",
              "  </thead>\n",
              "  <tbody>\n",
              "    <tr>\n",
              "      <th>0</th>\n",
              "      <td>7.4</td>\n",
              "      <td>0.70</td>\n",
              "      <td>0.00</td>\n",
              "      <td>1.9</td>\n",
              "      <td>0.076</td>\n",
              "      <td>11.0</td>\n",
              "      <td>34.0</td>\n",
              "      <td>0.9978</td>\n",
              "      <td>3.51</td>\n",
              "      <td>0.56</td>\n",
              "      <td>9.4</td>\n",
              "      <td>5</td>\n",
              "      <td>0</td>\n",
              "    </tr>\n",
              "    <tr>\n",
              "      <th>1</th>\n",
              "      <td>7.8</td>\n",
              "      <td>0.88</td>\n",
              "      <td>0.00</td>\n",
              "      <td>2.6</td>\n",
              "      <td>0.098</td>\n",
              "      <td>25.0</td>\n",
              "      <td>67.0</td>\n",
              "      <td>0.9968</td>\n",
              "      <td>3.20</td>\n",
              "      <td>0.68</td>\n",
              "      <td>9.8</td>\n",
              "      <td>5</td>\n",
              "      <td>1</td>\n",
              "    </tr>\n",
              "    <tr>\n",
              "      <th>2</th>\n",
              "      <td>7.8</td>\n",
              "      <td>0.76</td>\n",
              "      <td>0.04</td>\n",
              "      <td>2.3</td>\n",
              "      <td>0.092</td>\n",
              "      <td>15.0</td>\n",
              "      <td>54.0</td>\n",
              "      <td>0.9970</td>\n",
              "      <td>3.26</td>\n",
              "      <td>0.65</td>\n",
              "      <td>9.8</td>\n",
              "      <td>5</td>\n",
              "      <td>2</td>\n",
              "    </tr>\n",
              "    <tr>\n",
              "      <th>3</th>\n",
              "      <td>11.2</td>\n",
              "      <td>0.28</td>\n",
              "      <td>0.56</td>\n",
              "      <td>1.9</td>\n",
              "      <td>0.075</td>\n",
              "      <td>17.0</td>\n",
              "      <td>60.0</td>\n",
              "      <td>0.9980</td>\n",
              "      <td>3.16</td>\n",
              "      <td>0.58</td>\n",
              "      <td>9.8</td>\n",
              "      <td>6</td>\n",
              "      <td>3</td>\n",
              "    </tr>\n",
              "    <tr>\n",
              "      <th>4</th>\n",
              "      <td>7.4</td>\n",
              "      <td>0.70</td>\n",
              "      <td>0.00</td>\n",
              "      <td>1.9</td>\n",
              "      <td>0.076</td>\n",
              "      <td>11.0</td>\n",
              "      <td>34.0</td>\n",
              "      <td>0.9978</td>\n",
              "      <td>3.51</td>\n",
              "      <td>0.56</td>\n",
              "      <td>9.4</td>\n",
              "      <td>5</td>\n",
              "      <td>4</td>\n",
              "    </tr>\n",
              "  </tbody>\n",
              "</table>\n",
              "</div>\n",
              "      <button class=\"colab-df-convert\" onclick=\"convertToInteractive('df-4fd5be93-6c37-4859-be16-530da8a125c2')\"\n",
              "              title=\"Convert this dataframe to an interactive table.\"\n",
              "              style=\"display:none;\">\n",
              "        \n",
              "  <svg xmlns=\"http://www.w3.org/2000/svg\" height=\"24px\"viewBox=\"0 0 24 24\"\n",
              "       width=\"24px\">\n",
              "    <path d=\"M0 0h24v24H0V0z\" fill=\"none\"/>\n",
              "    <path d=\"M18.56 5.44l.94 2.06.94-2.06 2.06-.94-2.06-.94-.94-2.06-.94 2.06-2.06.94zm-11 1L8.5 8.5l.94-2.06 2.06-.94-2.06-.94L8.5 2.5l-.94 2.06-2.06.94zm10 10l.94 2.06.94-2.06 2.06-.94-2.06-.94-.94-2.06-.94 2.06-2.06.94z\"/><path d=\"M17.41 7.96l-1.37-1.37c-.4-.4-.92-.59-1.43-.59-.52 0-1.04.2-1.43.59L10.3 9.45l-7.72 7.72c-.78.78-.78 2.05 0 2.83L4 21.41c.39.39.9.59 1.41.59.51 0 1.02-.2 1.41-.59l7.78-7.78 2.81-2.81c.8-.78.8-2.07 0-2.86zM5.41 20L4 18.59l7.72-7.72 1.47 1.35L5.41 20z\"/>\n",
              "  </svg>\n",
              "      </button>\n",
              "      \n",
              "  <style>\n",
              "    .colab-df-container {\n",
              "      display:flex;\n",
              "      flex-wrap:wrap;\n",
              "      gap: 12px;\n",
              "    }\n",
              "\n",
              "    .colab-df-convert {\n",
              "      background-color: #E8F0FE;\n",
              "      border: none;\n",
              "      border-radius: 50%;\n",
              "      cursor: pointer;\n",
              "      display: none;\n",
              "      fill: #1967D2;\n",
              "      height: 32px;\n",
              "      padding: 0 0 0 0;\n",
              "      width: 32px;\n",
              "    }\n",
              "\n",
              "    .colab-df-convert:hover {\n",
              "      background-color: #E2EBFA;\n",
              "      box-shadow: 0px 1px 2px rgba(60, 64, 67, 0.3), 0px 1px 3px 1px rgba(60, 64, 67, 0.15);\n",
              "      fill: #174EA6;\n",
              "    }\n",
              "\n",
              "    [theme=dark] .colab-df-convert {\n",
              "      background-color: #3B4455;\n",
              "      fill: #D2E3FC;\n",
              "    }\n",
              "\n",
              "    [theme=dark] .colab-df-convert:hover {\n",
              "      background-color: #434B5C;\n",
              "      box-shadow: 0px 1px 3px 1px rgba(0, 0, 0, 0.15);\n",
              "      filter: drop-shadow(0px 1px 2px rgba(0, 0, 0, 0.3));\n",
              "      fill: #FFFFFF;\n",
              "    }\n",
              "  </style>\n",
              "\n",
              "      <script>\n",
              "        const buttonEl =\n",
              "          document.querySelector('#df-4fd5be93-6c37-4859-be16-530da8a125c2 button.colab-df-convert');\n",
              "        buttonEl.style.display =\n",
              "          google.colab.kernel.accessAllowed ? 'block' : 'none';\n",
              "\n",
              "        async function convertToInteractive(key) {\n",
              "          const element = document.querySelector('#df-4fd5be93-6c37-4859-be16-530da8a125c2');\n",
              "          const dataTable =\n",
              "            await google.colab.kernel.invokeFunction('convertToInteractive',\n",
              "                                                     [key], {});\n",
              "          if (!dataTable) return;\n",
              "\n",
              "          const docLinkHtml = 'Like what you see? Visit the ' +\n",
              "            '<a target=\"_blank\" href=https://colab.research.google.com/notebooks/data_table.ipynb>data table notebook</a>'\n",
              "            + ' to learn more about interactive tables.';\n",
              "          element.innerHTML = '';\n",
              "          dataTable['output_type'] = 'display_data';\n",
              "          await google.colab.output.renderOutput(dataTable, element);\n",
              "          const docLink = document.createElement('div');\n",
              "          docLink.innerHTML = docLinkHtml;\n",
              "          element.appendChild(docLink);\n",
              "        }\n",
              "      </script>\n",
              "    </div>\n",
              "  </div>\n",
              "  "
            ]
          },
          "metadata": {},
          "execution_count": 3
        }
      ]
    },
    {
      "cell_type": "markdown",
      "source": [
        "#Cleaning"
      ],
      "metadata": {
        "id": "aPEFY3VIu6MH"
      }
    },
    {
      "cell_type": "code",
      "source": [
        "#There was no missing data\n",
        "WineQ_df.info()"
      ],
      "metadata": {
        "colab": {
          "base_uri": "https://localhost:8080/"
        },
        "id": "C-wpIwBojp-S",
        "outputId": "3462aa5c-09cd-4319-9361-8be8da19bb16"
      },
      "execution_count": 4,
      "outputs": [
        {
          "output_type": "stream",
          "name": "stdout",
          "text": [
            "<class 'pandas.core.frame.DataFrame'>\n",
            "RangeIndex: 1143 entries, 0 to 1142\n",
            "Data columns (total 13 columns):\n",
            " #   Column                Non-Null Count  Dtype  \n",
            "---  ------                --------------  -----  \n",
            " 0   fixed acidity         1143 non-null   float64\n",
            " 1   volatile acidity      1143 non-null   float64\n",
            " 2   citric acid           1143 non-null   float64\n",
            " 3   residual sugar        1143 non-null   float64\n",
            " 4   chlorides             1143 non-null   float64\n",
            " 5   free sulfur dioxide   1143 non-null   float64\n",
            " 6   total sulfur dioxide  1143 non-null   float64\n",
            " 7   density               1143 non-null   float64\n",
            " 8   pH                    1143 non-null   float64\n",
            " 9   sulphates             1143 non-null   float64\n",
            " 10  alcohol               1143 non-null   float64\n",
            " 11  quality               1143 non-null   int64  \n",
            " 12  Id                    1143 non-null   int64  \n",
            "dtypes: float64(11), int64(2)\n",
            "memory usage: 116.2 KB\n"
          ]
        }
      ]
    },
    {
      "cell_type": "code",
      "source": [
        "WineQ_df.drop(columns='Id', inplace=True)"
      ],
      "metadata": {
        "id": "ucSIkVWZmyFv"
      },
      "execution_count": 5,
      "outputs": []
    },
    {
      "cell_type": "code",
      "source": [
        "WineQ_df.describe()"
      ],
      "metadata": {
        "colab": {
          "base_uri": "https://localhost:8080/",
          "height": 362
        },
        "id": "9QS0aN9TkLRW",
        "outputId": "74460d64-5e8f-41d4-e9f2-1c8989fcaaa1"
      },
      "execution_count": 6,
      "outputs": [
        {
          "output_type": "execute_result",
          "data": {
            "text/plain": [
              "       fixed acidity  volatile acidity  citric acid  residual sugar  \\\n",
              "count    1143.000000       1143.000000  1143.000000     1143.000000   \n",
              "mean        8.311111          0.531339     0.268364        2.532152   \n",
              "std         1.747595          0.179633     0.196686        1.355917   \n",
              "min         4.600000          0.120000     0.000000        0.900000   \n",
              "25%         7.100000          0.392500     0.090000        1.900000   \n",
              "50%         7.900000          0.520000     0.250000        2.200000   \n",
              "75%         9.100000          0.640000     0.420000        2.600000   \n",
              "max        15.900000          1.580000     1.000000       15.500000   \n",
              "\n",
              "         chlorides  free sulfur dioxide  total sulfur dioxide      density  \\\n",
              "count  1143.000000          1143.000000           1143.000000  1143.000000   \n",
              "mean      0.086933            15.615486             45.914698     0.996730   \n",
              "std       0.047267            10.250486             32.782130     0.001925   \n",
              "min       0.012000             1.000000              6.000000     0.990070   \n",
              "25%       0.070000             7.000000             21.000000     0.995570   \n",
              "50%       0.079000            13.000000             37.000000     0.996680   \n",
              "75%       0.090000            21.000000             61.000000     0.997845   \n",
              "max       0.611000            68.000000            289.000000     1.003690   \n",
              "\n",
              "                pH    sulphates      alcohol      quality  \n",
              "count  1143.000000  1143.000000  1143.000000  1143.000000  \n",
              "mean      3.311015     0.657708    10.442111     5.657043  \n",
              "std       0.156664     0.170399     1.082196     0.805824  \n",
              "min       2.740000     0.330000     8.400000     3.000000  \n",
              "25%       3.205000     0.550000     9.500000     5.000000  \n",
              "50%       3.310000     0.620000    10.200000     6.000000  \n",
              "75%       3.400000     0.730000    11.100000     6.000000  \n",
              "max       4.010000     2.000000    14.900000     8.000000  "
            ],
            "text/html": [
              "\n",
              "  <div id=\"df-830433ee-a714-4841-8170-0125815101df\">\n",
              "    <div class=\"colab-df-container\">\n",
              "      <div>\n",
              "<style scoped>\n",
              "    .dataframe tbody tr th:only-of-type {\n",
              "        vertical-align: middle;\n",
              "    }\n",
              "\n",
              "    .dataframe tbody tr th {\n",
              "        vertical-align: top;\n",
              "    }\n",
              "\n",
              "    .dataframe thead th {\n",
              "        text-align: right;\n",
              "    }\n",
              "</style>\n",
              "<table border=\"1\" class=\"dataframe\">\n",
              "  <thead>\n",
              "    <tr style=\"text-align: right;\">\n",
              "      <th></th>\n",
              "      <th>fixed acidity</th>\n",
              "      <th>volatile acidity</th>\n",
              "      <th>citric acid</th>\n",
              "      <th>residual sugar</th>\n",
              "      <th>chlorides</th>\n",
              "      <th>free sulfur dioxide</th>\n",
              "      <th>total sulfur dioxide</th>\n",
              "      <th>density</th>\n",
              "      <th>pH</th>\n",
              "      <th>sulphates</th>\n",
              "      <th>alcohol</th>\n",
              "      <th>quality</th>\n",
              "    </tr>\n",
              "  </thead>\n",
              "  <tbody>\n",
              "    <tr>\n",
              "      <th>count</th>\n",
              "      <td>1143.000000</td>\n",
              "      <td>1143.000000</td>\n",
              "      <td>1143.000000</td>\n",
              "      <td>1143.000000</td>\n",
              "      <td>1143.000000</td>\n",
              "      <td>1143.000000</td>\n",
              "      <td>1143.000000</td>\n",
              "      <td>1143.000000</td>\n",
              "      <td>1143.000000</td>\n",
              "      <td>1143.000000</td>\n",
              "      <td>1143.000000</td>\n",
              "      <td>1143.000000</td>\n",
              "    </tr>\n",
              "    <tr>\n",
              "      <th>mean</th>\n",
              "      <td>8.311111</td>\n",
              "      <td>0.531339</td>\n",
              "      <td>0.268364</td>\n",
              "      <td>2.532152</td>\n",
              "      <td>0.086933</td>\n",
              "      <td>15.615486</td>\n",
              "      <td>45.914698</td>\n",
              "      <td>0.996730</td>\n",
              "      <td>3.311015</td>\n",
              "      <td>0.657708</td>\n",
              "      <td>10.442111</td>\n",
              "      <td>5.657043</td>\n",
              "    </tr>\n",
              "    <tr>\n",
              "      <th>std</th>\n",
              "      <td>1.747595</td>\n",
              "      <td>0.179633</td>\n",
              "      <td>0.196686</td>\n",
              "      <td>1.355917</td>\n",
              "      <td>0.047267</td>\n",
              "      <td>10.250486</td>\n",
              "      <td>32.782130</td>\n",
              "      <td>0.001925</td>\n",
              "      <td>0.156664</td>\n",
              "      <td>0.170399</td>\n",
              "      <td>1.082196</td>\n",
              "      <td>0.805824</td>\n",
              "    </tr>\n",
              "    <tr>\n",
              "      <th>min</th>\n",
              "      <td>4.600000</td>\n",
              "      <td>0.120000</td>\n",
              "      <td>0.000000</td>\n",
              "      <td>0.900000</td>\n",
              "      <td>0.012000</td>\n",
              "      <td>1.000000</td>\n",
              "      <td>6.000000</td>\n",
              "      <td>0.990070</td>\n",
              "      <td>2.740000</td>\n",
              "      <td>0.330000</td>\n",
              "      <td>8.400000</td>\n",
              "      <td>3.000000</td>\n",
              "    </tr>\n",
              "    <tr>\n",
              "      <th>25%</th>\n",
              "      <td>7.100000</td>\n",
              "      <td>0.392500</td>\n",
              "      <td>0.090000</td>\n",
              "      <td>1.900000</td>\n",
              "      <td>0.070000</td>\n",
              "      <td>7.000000</td>\n",
              "      <td>21.000000</td>\n",
              "      <td>0.995570</td>\n",
              "      <td>3.205000</td>\n",
              "      <td>0.550000</td>\n",
              "      <td>9.500000</td>\n",
              "      <td>5.000000</td>\n",
              "    </tr>\n",
              "    <tr>\n",
              "      <th>50%</th>\n",
              "      <td>7.900000</td>\n",
              "      <td>0.520000</td>\n",
              "      <td>0.250000</td>\n",
              "      <td>2.200000</td>\n",
              "      <td>0.079000</td>\n",
              "      <td>13.000000</td>\n",
              "      <td>37.000000</td>\n",
              "      <td>0.996680</td>\n",
              "      <td>3.310000</td>\n",
              "      <td>0.620000</td>\n",
              "      <td>10.200000</td>\n",
              "      <td>6.000000</td>\n",
              "    </tr>\n",
              "    <tr>\n",
              "      <th>75%</th>\n",
              "      <td>9.100000</td>\n",
              "      <td>0.640000</td>\n",
              "      <td>0.420000</td>\n",
              "      <td>2.600000</td>\n",
              "      <td>0.090000</td>\n",
              "      <td>21.000000</td>\n",
              "      <td>61.000000</td>\n",
              "      <td>0.997845</td>\n",
              "      <td>3.400000</td>\n",
              "      <td>0.730000</td>\n",
              "      <td>11.100000</td>\n",
              "      <td>6.000000</td>\n",
              "    </tr>\n",
              "    <tr>\n",
              "      <th>max</th>\n",
              "      <td>15.900000</td>\n",
              "      <td>1.580000</td>\n",
              "      <td>1.000000</td>\n",
              "      <td>15.500000</td>\n",
              "      <td>0.611000</td>\n",
              "      <td>68.000000</td>\n",
              "      <td>289.000000</td>\n",
              "      <td>1.003690</td>\n",
              "      <td>4.010000</td>\n",
              "      <td>2.000000</td>\n",
              "      <td>14.900000</td>\n",
              "      <td>8.000000</td>\n",
              "    </tr>\n",
              "  </tbody>\n",
              "</table>\n",
              "</div>\n",
              "      <button class=\"colab-df-convert\" onclick=\"convertToInteractive('df-830433ee-a714-4841-8170-0125815101df')\"\n",
              "              title=\"Convert this dataframe to an interactive table.\"\n",
              "              style=\"display:none;\">\n",
              "        \n",
              "  <svg xmlns=\"http://www.w3.org/2000/svg\" height=\"24px\"viewBox=\"0 0 24 24\"\n",
              "       width=\"24px\">\n",
              "    <path d=\"M0 0h24v24H0V0z\" fill=\"none\"/>\n",
              "    <path d=\"M18.56 5.44l.94 2.06.94-2.06 2.06-.94-2.06-.94-.94-2.06-.94 2.06-2.06.94zm-11 1L8.5 8.5l.94-2.06 2.06-.94-2.06-.94L8.5 2.5l-.94 2.06-2.06.94zm10 10l.94 2.06.94-2.06 2.06-.94-2.06-.94-.94-2.06-.94 2.06-2.06.94z\"/><path d=\"M17.41 7.96l-1.37-1.37c-.4-.4-.92-.59-1.43-.59-.52 0-1.04.2-1.43.59L10.3 9.45l-7.72 7.72c-.78.78-.78 2.05 0 2.83L4 21.41c.39.39.9.59 1.41.59.51 0 1.02-.2 1.41-.59l7.78-7.78 2.81-2.81c.8-.78.8-2.07 0-2.86zM5.41 20L4 18.59l7.72-7.72 1.47 1.35L5.41 20z\"/>\n",
              "  </svg>\n",
              "      </button>\n",
              "      \n",
              "  <style>\n",
              "    .colab-df-container {\n",
              "      display:flex;\n",
              "      flex-wrap:wrap;\n",
              "      gap: 12px;\n",
              "    }\n",
              "\n",
              "    .colab-df-convert {\n",
              "      background-color: #E8F0FE;\n",
              "      border: none;\n",
              "      border-radius: 50%;\n",
              "      cursor: pointer;\n",
              "      display: none;\n",
              "      fill: #1967D2;\n",
              "      height: 32px;\n",
              "      padding: 0 0 0 0;\n",
              "      width: 32px;\n",
              "    }\n",
              "\n",
              "    .colab-df-convert:hover {\n",
              "      background-color: #E2EBFA;\n",
              "      box-shadow: 0px 1px 2px rgba(60, 64, 67, 0.3), 0px 1px 3px 1px rgba(60, 64, 67, 0.15);\n",
              "      fill: #174EA6;\n",
              "    }\n",
              "\n",
              "    [theme=dark] .colab-df-convert {\n",
              "      background-color: #3B4455;\n",
              "      fill: #D2E3FC;\n",
              "    }\n",
              "\n",
              "    [theme=dark] .colab-df-convert:hover {\n",
              "      background-color: #434B5C;\n",
              "      box-shadow: 0px 1px 3px 1px rgba(0, 0, 0, 0.15);\n",
              "      filter: drop-shadow(0px 1px 2px rgba(0, 0, 0, 0.3));\n",
              "      fill: #FFFFFF;\n",
              "    }\n",
              "  </style>\n",
              "\n",
              "      <script>\n",
              "        const buttonEl =\n",
              "          document.querySelector('#df-830433ee-a714-4841-8170-0125815101df button.colab-df-convert');\n",
              "        buttonEl.style.display =\n",
              "          google.colab.kernel.accessAllowed ? 'block' : 'none';\n",
              "\n",
              "        async function convertToInteractive(key) {\n",
              "          const element = document.querySelector('#df-830433ee-a714-4841-8170-0125815101df');\n",
              "          const dataTable =\n",
              "            await google.colab.kernel.invokeFunction('convertToInteractive',\n",
              "                                                     [key], {});\n",
              "          if (!dataTable) return;\n",
              "\n",
              "          const docLinkHtml = 'Like what you see? Visit the ' +\n",
              "            '<a target=\"_blank\" href=https://colab.research.google.com/notebooks/data_table.ipynb>data table notebook</a>'\n",
              "            + ' to learn more about interactive tables.';\n",
              "          element.innerHTML = '';\n",
              "          dataTable['output_type'] = 'display_data';\n",
              "          await google.colab.output.renderOutput(dataTable, element);\n",
              "          const docLink = document.createElement('div');\n",
              "          docLink.innerHTML = docLinkHtml;\n",
              "          element.appendChild(docLink);\n",
              "        }\n",
              "      </script>\n",
              "    </div>\n",
              "  </div>\n",
              "  "
            ]
          },
          "metadata": {},
          "execution_count": 6
        }
      ]
    },
    {
      "cell_type": "code",
      "source": [
        "#There weere no duplicated rows\n",
        "WineQ_df.duplicated().sum()"
      ],
      "metadata": {
        "colab": {
          "base_uri": "https://localhost:8080/"
        },
        "id": "qc5tlAPLk0t0",
        "outputId": "840d74e2-acd8-442f-989a-5aced55d6d06"
      },
      "execution_count": 7,
      "outputs": [
        {
          "output_type": "execute_result",
          "data": {
            "text/plain": [
              "125"
            ]
          },
          "metadata": {},
          "execution_count": 7
        }
      ]
    },
    {
      "cell_type": "code",
      "source": [
        "WineQ_df.isnull().sum()"
      ],
      "metadata": {
        "colab": {
          "base_uri": "https://localhost:8080/"
        },
        "id": "KMUdaEHUlMu1",
        "outputId": "c8184dbc-f258-494c-8e3f-b671a778426d"
      },
      "execution_count": 8,
      "outputs": [
        {
          "output_type": "execute_result",
          "data": {
            "text/plain": [
              "fixed acidity           0\n",
              "volatile acidity        0\n",
              "citric acid             0\n",
              "residual sugar          0\n",
              "chlorides               0\n",
              "free sulfur dioxide     0\n",
              "total sulfur dioxide    0\n",
              "density                 0\n",
              "pH                      0\n",
              "sulphates               0\n",
              "alcohol                 0\n",
              "quality                 0\n",
              "dtype: int64"
            ]
          },
          "metadata": {},
          "execution_count": 8
        }
      ]
    },
    {
      "cell_type": "markdown",
      "source": [
        "#Feature Visualization"
      ],
      "metadata": {
        "id": "xxfOM6m8vEAf"
      }
    },
    {
      "cell_type": "code",
      "source": [
        "corr = WineQ_df.corr()\n",
        "\n",
        "import seaborn as sns\n",
        "\n",
        "plt.figure(figsize=(10,8))\n",
        "sns.heatmap(corr, cmap = 'Greens', annot = True)"
      ],
      "metadata": {
        "colab": {
          "base_uri": "https://localhost:8080/",
          "height": 588
        },
        "id": "u4NOntfVlWH8",
        "outputId": "d1d2245a-b56d-4b44-94c3-4815e48a51a8"
      },
      "execution_count": 9,
      "outputs": [
        {
          "output_type": "execute_result",
          "data": {
            "text/plain": [
              "<matplotlib.axes._subplots.AxesSubplot at 0x7f60df2aac50>"
            ]
          },
          "metadata": {},
          "execution_count": 9
        },
        {
          "output_type": "display_data",
          "data": {
            "text/plain": [
              "<Figure size 720x576 with 2 Axes>"
            ],
            "image/png": "[encoded data removed]"
          },
          "metadata": {
            "needs_background": "light"
          }
        }
      ]
    },
    {
      "cell_type": "code",
      "source": [
        "WineQ_df['quality'].nunique()"
      ],
      "metadata": {
        "colab": {
          "base_uri": "https://localhost:8080/"
        },
        "id": "X7DmC1TlmniM",
        "outputId": "0dd4ba3c-4739-4308-a93a-8a612ec58a49"
      },
      "execution_count": 10,
      "outputs": [
        {
          "output_type": "execute_result",
          "data": {
            "text/plain": [
              "6"
            ]
          },
          "metadata": {},
          "execution_count": 10
        }
      ]
    },
    {
      "cell_type": "code",
      "source": [
        "WineQ_df['fixed acidity'].value_counts()"
      ],
      "metadata": {
        "colab": {
          "base_uri": "https://localhost:8080/"
        },
        "id": "TxQPkN1nmzUx",
        "outputId": "5818e36e-294f-4163-ddc2-40333e75f491"
      },
      "execution_count": 11,
      "outputs": [
        {
          "output_type": "execute_result",
          "data": {
            "text/plain": [
              "7.2     43\n",
              "7.1     41\n",
              "7.0     40\n",
              "7.8     40\n",
              "7.5     37\n",
              "        ..\n",
              "4.6      1\n",
              "13.7     1\n",
              "13.4     1\n",
              "13.5     1\n",
              "12.2     1\n",
              "Name: fixed acidity, Length: 91, dtype: int64"
            ]
          },
          "metadata": {},
          "execution_count": 11
        }
      ]
    },
    {
      "cell_type": "code",
      "source": [
        "WineQ_df['density'].value_counts().sort_index()"
      ],
      "metadata": {
        "colab": {
          "base_uri": "https://localhost:8080/"
        },
        "id": "cSvBpfqfnBrb",
        "outputId": "34acae9a-cc6d-4aff-bc2a-11b109f79650"
      },
      "execution_count": 12,
      "outputs": [
        {
          "output_type": "execute_result",
          "data": {
            "text/plain": [
              "0.99007    1\n",
              "0.99020    1\n",
              "0.99064    2\n",
              "0.99084    1\n",
              "0.99120    1\n",
              "          ..\n",
              "1.00260    2\n",
              "1.00289    1\n",
              "1.00315    2\n",
              "1.00320    1\n",
              "1.00369    1\n",
              "Name: density, Length: 388, dtype: int64"
            ]
          },
          "metadata": {},
          "execution_count": 12
        }
      ]
    },
    {
      "cell_type": "markdown",
      "source": [
        "#Univariate Visualizations"
      ],
      "metadata": {
        "id": "sYigwsq2vXK3"
      }
    },
    {
      "cell_type": "code",
      "source": [
        "ax = sns.histplot(data=WineQ_df, x='fixed acidity',bins='auto');\n",
        "ax.set_title('Distribution of Fixed Acidity');"
      ],
      "metadata": {
        "colab": {
          "base_uri": "https://localhost:8080/",
          "height": 295
        },
        "id": "CZkvIRhOrNtM",
        "outputId": "20260f0d-bbe1-4fc6-a0e1-70cddf9b7e6c"
      },
      "execution_count": 13,
      "outputs": [
        {
          "output_type": "display_data",
          "data": {
            "text/plain": [
              "<Figure size 432x288 with 1 Axes>"
            ],
            "image/png": "[encoded data removed]"
          },
          "metadata": {
            "needs_background": "light"
          }
        }
      ]
    },
    {
      "cell_type": "code",
      "source": [
        "ax = sns.histplot(data=WineQ_df, x='alcohol',bins='auto');\n",
        "ax.set_title('Distribution of Alchol');\n",
        "##Here we have a linear distribution skewed to the left"
      ],
      "metadata": {
        "colab": {
          "base_uri": "https://localhost:8080/",
          "height": 295
        },
        "id": "-C6TATryrePe",
        "outputId": "4d4e3762-b21c-4572-fc60-6970eb922875"
      },
      "execution_count": 14,
      "outputs": [
        {
          "output_type": "display_data",
          "data": {
            "text/plain": [
              "<Figure size 432x288 with 1 Axes>"
            ],
            "image/png": "[encoded data removed]"
          },
          "metadata": {
            "needs_background": "light"
          }
        }
      ]
    },
    {
      "cell_type": "code",
      "source": [
        "WineQ_df.boxplot(column = 'fixed acidity');\n",
        "WineQ_df['fixed acidity'].describe()\n",
        "## There are roughly 181.7 outliers about 16% 0f this columns data points"
      ],
      "metadata": {
        "colab": {
          "base_uri": "https://localhost:8080/",
          "height": 421
        },
        "id": "e-Apj6tBq7bu",
        "outputId": "ff148275-5a65-4109-a014-026fd430b49e"
      },
      "execution_count": 15,
      "outputs": [
        {
          "output_type": "execute_result",
          "data": {
            "text/plain": [
              "count    1143.000000\n",
              "mean        8.311111\n",
              "std         1.747595\n",
              "min         4.600000\n",
              "25%         7.100000\n",
              "50%         7.900000\n",
              "75%         9.100000\n",
              "max        15.900000\n",
              "Name: fixed acidity, dtype: float64"
            ]
          },
          "metadata": {},
          "execution_count": 15
        },
        {
          "output_type": "display_data",
          "data": {
            "text/plain": [
              "<Figure size 432x288 with 1 Axes>"
            ],
            "image/png": "[encoded data removed]"
          },
          "metadata": {
            "needs_background": "light"
          }
        }
      ]
    },
    {
      "cell_type": "code",
      "source": [
        "WineQ_df.boxplot(column = 'density');\n",
        "WineQ_df['density'].describe()"
      ],
      "metadata": {
        "colab": {
          "base_uri": "https://localhost:8080/",
          "height": 421
        },
        "id": "MKmhoC_Ss3P4",
        "outputId": "d04726c3-ff0f-41f4-c3ba-515dc6cc95a9"
      },
      "execution_count": 16,
      "outputs": [
        {
          "output_type": "execute_result",
          "data": {
            "text/plain": [
              "count    1143.000000\n",
              "mean        0.996730\n",
              "std         0.001925\n",
              "min         0.990070\n",
              "25%         0.995570\n",
              "50%         0.996680\n",
              "75%         0.997845\n",
              "max         1.003690\n",
              "Name: density, dtype: float64"
            ]
          },
          "metadata": {},
          "execution_count": 16
        },
        {
          "output_type": "display_data",
          "data": {
            "text/plain": [
              "<Figure size 432x288 with 1 Axes>"
            ],
            "image/png": "[encoded data removed]"
          },
          "metadata": {
            "needs_background": "light"
          }
        }
      ]
    },
    {
      "cell_type": "code",
      "source": [
        "#The highest correlation is between fixed acidity density\n",
        "fig, ax = plt.subplots(figsize=(15,10))\n",
        "sns.heatmap(WineQ_df.corr(), annot=True, ax=ax)"
      ],
      "metadata": {
        "colab": {
          "base_uri": "https://localhost:8080/",
          "height": 696
        },
        "id": "d-nXasE_nddS",
        "outputId": "c1a6574c-6d85-44c4-ead0-480754aabce4"
      },
      "execution_count": 17,
      "outputs": [
        {
          "output_type": "execute_result",
          "data": {
            "text/plain": [
              "<matplotlib.axes._subplots.AxesSubplot at 0x7f60da7ed3d0>"
            ]
          },
          "metadata": {},
          "execution_count": 17
        },
        {
          "output_type": "display_data",
          "data": {
            "text/plain": [
              "<Figure size 1080x720 with 2 Axes>"
            ],
            "image/png": "[encoded data removed]"
          },
          "metadata": {
            "needs_background": "light"
          }
        }
      ]
    },
    {
      "cell_type": "markdown",
      "source": [
        "#Multivariate Visualization"
      ],
      "metadata": {
        "id": "afhFZkbHvgO2"
      }
    },
    {
      "cell_type": "code",
      "source": [
        "#According to the heatmap we can see the highest correlated patterns have a linear correlation for regression models and enough grouped data for classification cases\n",
        "plt.figure(figsize=(15,8))\n",
        "plt.xticks(rotation=75)\n",
        "plt.title('Fixed Acidity/ Density by Quality')\n",
        "ax = sns.scatterplot(x=\"fixed acidity\", y=\"density\", hue=WineQ_df[\"quality\"], data=WineQ_df)"
      ],
      "metadata": {
        "colab": {
          "base_uri": "https://localhost:8080/",
          "height": 518
        },
        "id": "V8n4KGynj8YV",
        "outputId": "c19a5e01-80bb-47d4-dfbe-51357e0bd8be"
      },
      "execution_count": 18,
      "outputs": [
        {
          "output_type": "display_data",
          "data": {
            "text/plain": [
              "<Figure size 1080x576 with 1 Axes>"
            ],
            "image/png": "[encoded data removed]"
          },
          "metadata": {
            "needs_background": "light"
          }
        }
      ]
    },
    {
      "cell_type": "markdown",
      "source": [
        "#Pre-Processing for model selection"
      ],
      "metadata": {
        "id": "v2ruSMI3Trw5"
      }
    },
    {
      "cell_type": "code",
      "source": [
        "#Bining the quality column into good an bad options for binary classification\n",
        "bins = (2, 6.5, 8) \n",
        "group_names = ['bad', 'good']\n",
        "WineQ_df['quality'] = pd.cut(WineQ_df['quality'], bins = bins, labels = group_names)"
      ],
      "metadata": {
        "id": "JUrH0-jkMqIy"
      },
      "execution_count": 19,
      "outputs": []
    },
    {
      "cell_type": "code",
      "source": [
        "WineQ_df['quality'].replace({'bad': 0, 'good': 1}, inplace=True)\n",
        "WineQ_df.head()"
      ],
      "metadata": {
        "colab": {
          "base_uri": "https://localhost:8080/",
          "height": 206
        },
        "id": "lqHN3T69U2Em",
        "outputId": "329fb95c-89db-45a7-9f00-6f2ca56fb49a"
      },
      "execution_count": 20,
      "outputs": [
        {
          "output_type": "execute_result",
          "data": {
            "text/plain": [
              "   fixed acidity  volatile acidity  citric acid  residual sugar  chlorides  \\\n",
              "0            7.4              0.70         0.00             1.9      0.076   \n",
              "1            7.8              0.88         0.00             2.6      0.098   \n",
              "2            7.8              0.76         0.04             2.3      0.092   \n",
              "3           11.2              0.28         0.56             1.9      0.075   \n",
              "4            7.4              0.70         0.00             1.9      0.076   \n",
              "\n",
              "   free sulfur dioxide  total sulfur dioxide  density    pH  sulphates  \\\n",
              "0                 11.0                  34.0   0.9978  3.51       0.56   \n",
              "1                 25.0                  67.0   0.9968  3.20       0.68   \n",
              "2                 15.0                  54.0   0.9970  3.26       0.65   \n",
              "3                 17.0                  60.0   0.9980  3.16       0.58   \n",
              "4                 11.0                  34.0   0.9978  3.51       0.56   \n",
              "\n",
              "   alcohol  quality  \n",
              "0      9.4        0  \n",
              "1      9.8        0  \n",
              "2      9.8        0  \n",
              "3      9.8        0  \n",
              "4      9.4        0  "
            ],
            "text/html": [
              "\n",
              "  <div id=\"df-95b823c7-9747-4104-b319-a3ca7367bcc8\">\n",
              "    <div class=\"colab-df-container\">\n",
              "      <div>\n",
              "<style scoped>\n",
              "    .dataframe tbody tr th:only-of-type {\n",
              "        vertical-align: middle;\n",
              "    }\n",
              "\n",
              "    .dataframe tbody tr th {\n",
              "        vertical-align: top;\n",
              "    }\n",
              "\n",
              "    .dataframe thead th {\n",
              "        text-align: right;\n",
              "    }\n",
              "</style>\n",
              "<table border=\"1\" class=\"dataframe\">\n",
              "  <thead>\n",
              "    <tr style=\"text-align: right;\">\n",
              "      <th></th>\n",
              "      <th>fixed acidity</th>\n",
              "      <th>volatile acidity</th>\n",
              "      <th>citric acid</th>\n",
              "      <th>residual sugar</th>\n",
              "      <th>chlorides</th>\n",
              "      <th>free sulfur dioxide</th>\n",
              "      <th>total sulfur dioxide</th>\n",
              "      <th>density</th>\n",
              "      <th>pH</th>\n",
              "      <th>sulphates</th>\n",
              "      <th>alcohol</th>\n",
              "      <th>quality</th>\n",
              "    </tr>\n",
              "  </thead>\n",
              "  <tbody>\n",
              "    <tr>\n",
              "      <th>0</th>\n",
              "      <td>7.4</td>\n",
              "      <td>0.70</td>\n",
              "      <td>0.00</td>\n",
              "      <td>1.9</td>\n",
              "      <td>0.076</td>\n",
              "      <td>11.0</td>\n",
              "      <td>34.0</td>\n",
              "      <td>0.9978</td>\n",
              "      <td>3.51</td>\n",
              "      <td>0.56</td>\n",
              "      <td>9.4</td>\n",
              "      <td>0</td>\n",
              "    </tr>\n",
              "    <tr>\n",
              "      <th>1</th>\n",
              "      <td>7.8</td>\n",
              "      <td>0.88</td>\n",
              "      <td>0.00</td>\n",
              "      <td>2.6</td>\n",
              "      <td>0.098</td>\n",
              "      <td>25.0</td>\n",
              "      <td>67.0</td>\n",
              "      <td>0.9968</td>\n",
              "      <td>3.20</td>\n",
              "      <td>0.68</td>\n",
              "      <td>9.8</td>\n",
              "      <td>0</td>\n",
              "    </tr>\n",
              "    <tr>\n",
              "      <th>2</th>\n",
              "      <td>7.8</td>\n",
              "      <td>0.76</td>\n",
              "      <td>0.04</td>\n",
              "      <td>2.3</td>\n",
              "      <td>0.092</td>\n",
              "      <td>15.0</td>\n",
              "      <td>54.0</td>\n",
              "      <td>0.9970</td>\n",
              "      <td>3.26</td>\n",
              "      <td>0.65</td>\n",
              "      <td>9.8</td>\n",
              "      <td>0</td>\n",
              "    </tr>\n",
              "    <tr>\n",
              "      <th>3</th>\n",
              "      <td>11.2</td>\n",
              "      <td>0.28</td>\n",
              "      <td>0.56</td>\n",
              "      <td>1.9</td>\n",
              "      <td>0.075</td>\n",
              "      <td>17.0</td>\n",
              "      <td>60.0</td>\n",
              "      <td>0.9980</td>\n",
              "      <td>3.16</td>\n",
              "      <td>0.58</td>\n",
              "      <td>9.8</td>\n",
              "      <td>0</td>\n",
              "    </tr>\n",
              "    <tr>\n",
              "      <th>4</th>\n",
              "      <td>7.4</td>\n",
              "      <td>0.70</td>\n",
              "      <td>0.00</td>\n",
              "      <td>1.9</td>\n",
              "      <td>0.076</td>\n",
              "      <td>11.0</td>\n",
              "      <td>34.0</td>\n",
              "      <td>0.9978</td>\n",
              "      <td>3.51</td>\n",
              "      <td>0.56</td>\n",
              "      <td>9.4</td>\n",
              "      <td>0</td>\n",
              "    </tr>\n",
              "  </tbody>\n",
              "</table>\n",
              "</div>\n",
              "      <button class=\"colab-df-convert\" onclick=\"convertToInteractive('df-95b823c7-9747-4104-b319-a3ca7367bcc8')\"\n",
              "              title=\"Convert this dataframe to an interactive table.\"\n",
              "              style=\"display:none;\">\n",
              "        \n",
              "  <svg xmlns=\"http://www.w3.org/2000/svg\" height=\"24px\"viewBox=\"0 0 24 24\"\n",
              "       width=\"24px\">\n",
              "    <path d=\"M0 0h24v24H0V0z\" fill=\"none\"/>\n",
              "    <path d=\"M18.56 5.44l.94 2.06.94-2.06 2.06-.94-2.06-.94-.94-2.06-.94 2.06-2.06.94zm-11 1L8.5 8.5l.94-2.06 2.06-.94-2.06-.94L8.5 2.5l-.94 2.06-2.06.94zm10 10l.94 2.06.94-2.06 2.06-.94-2.06-.94-.94-2.06-.94 2.06-2.06.94z\"/><path d=\"M17.41 7.96l-1.37-1.37c-.4-.4-.92-.59-1.43-.59-.52 0-1.04.2-1.43.59L10.3 9.45l-7.72 7.72c-.78.78-.78 2.05 0 2.83L4 21.41c.39.39.9.59 1.41.59.51 0 1.02-.2 1.41-.59l7.78-7.78 2.81-2.81c.8-.78.8-2.07 0-2.86zM5.41 20L4 18.59l7.72-7.72 1.47 1.35L5.41 20z\"/>\n",
              "  </svg>\n",
              "      </button>\n",
              "      \n",
              "  <style>\n",
              "    .colab-df-container {\n",
              "      display:flex;\n",
              "      flex-wrap:wrap;\n",
              "      gap: 12px;\n",
              "    }\n",
              "\n",
              "    .colab-df-convert {\n",
              "      background-color: #E8F0FE;\n",
              "      border: none;\n",
              "      border-radius: 50%;\n",
              "      cursor: pointer;\n",
              "      display: none;\n",
              "      fill: #1967D2;\n",
              "      height: 32px;\n",
              "      padding: 0 0 0 0;\n",
              "      width: 32px;\n",
              "    }\n",
              "\n",
              "    .colab-df-convert:hover {\n",
              "      background-color: #E2EBFA;\n",
              "      box-shadow: 0px 1px 2px rgba(60, 64, 67, 0.3), 0px 1px 3px 1px rgba(60, 64, 67, 0.15);\n",
              "      fill: #174EA6;\n",
              "    }\n",
              "\n",
              "    [theme=dark] .colab-df-convert {\n",
              "      background-color: #3B4455;\n",
              "      fill: #D2E3FC;\n",
              "    }\n",
              "\n",
              "    [theme=dark] .colab-df-convert:hover {\n",
              "      background-color: #434B5C;\n",
              "      box-shadow: 0px 1px 3px 1px rgba(0, 0, 0, 0.15);\n",
              "      filter: drop-shadow(0px 1px 2px rgba(0, 0, 0, 0.3));\n",
              "      fill: #FFFFFF;\n",
              "    }\n",
              "  </style>\n",
              "\n",
              "      <script>\n",
              "        const buttonEl =\n",
              "          document.querySelector('#df-95b823c7-9747-4104-b319-a3ca7367bcc8 button.colab-df-convert');\n",
              "        buttonEl.style.display =\n",
              "          google.colab.kernel.accessAllowed ? 'block' : 'none';\n",
              "\n",
              "        async function convertToInteractive(key) {\n",
              "          const element = document.querySelector('#df-95b823c7-9747-4104-b319-a3ca7367bcc8');\n",
              "          const dataTable =\n",
              "            await google.colab.kernel.invokeFunction('convertToInteractive',\n",
              "                                                     [key], {});\n",
              "          if (!dataTable) return;\n",
              "\n",
              "          const docLinkHtml = 'Like what you see? Visit the ' +\n",
              "            '<a target=\"_blank\" href=https://colab.research.google.com/notebooks/data_table.ipynb>data table notebook</a>'\n",
              "            + ' to learn more about interactive tables.';\n",
              "          element.innerHTML = '';\n",
              "          dataTable['output_type'] = 'display_data';\n",
              "          await google.colab.output.renderOutput(dataTable, element);\n",
              "          const docLink = document.createElement('div');\n",
              "          docLink.innerHTML = docLinkHtml;\n",
              "          element.appendChild(docLink);\n",
              "        }\n",
              "      </script>\n",
              "    </div>\n",
              "  </div>\n",
              "  "
            ]
          },
          "metadata": {},
          "execution_count": 20
        }
      ]
    },
    {
      "cell_type": "code",
      "source": [
        "#Here we can see that we have an unbalanced dataset\n",
        "WineQ_df['quality'].value_counts(normalize = True)"
      ],
      "metadata": {
        "colab": {
          "base_uri": "https://localhost:8080/"
        },
        "id": "Yz7fcB4PHInV",
        "outputId": "ddd15a9a-094d-48f6-f7e7-b84abf071a3a"
      },
      "execution_count": 21,
      "outputs": [
        {
          "output_type": "execute_result",
          "data": {
            "text/plain": [
              "0    0.860892\n",
              "1    0.139108\n",
              "Name: quality, dtype: float64"
            ]
          },
          "metadata": {},
          "execution_count": 21
        }
      ]
    },
    {
      "cell_type": "code",
      "source": [
        "WineQ_df.info()"
      ],
      "metadata": {
        "colab": {
          "base_uri": "https://localhost:8080/"
        },
        "id": "vxalRTHcTXwJ",
        "outputId": "c482e1c8-a3c5-4211-80dc-12f5eebfb38b"
      },
      "execution_count": 22,
      "outputs": [
        {
          "output_type": "stream",
          "name": "stdout",
          "text": [
            "<class 'pandas.core.frame.DataFrame'>\n",
            "RangeIndex: 1143 entries, 0 to 1142\n",
            "Data columns (total 12 columns):\n",
            " #   Column                Non-Null Count  Dtype  \n",
            "---  ------                --------------  -----  \n",
            " 0   fixed acidity         1143 non-null   float64\n",
            " 1   volatile acidity      1143 non-null   float64\n",
            " 2   citric acid           1143 non-null   float64\n",
            " 3   residual sugar        1143 non-null   float64\n",
            " 4   chlorides             1143 non-null   float64\n",
            " 5   free sulfur dioxide   1143 non-null   float64\n",
            " 6   total sulfur dioxide  1143 non-null   float64\n",
            " 7   density               1143 non-null   float64\n",
            " 8   pH                    1143 non-null   float64\n",
            " 9   sulphates             1143 non-null   float64\n",
            " 10  alcohol               1143 non-null   float64\n",
            " 11  quality               1143 non-null   int64  \n",
            "dtypes: float64(11), int64(1)\n",
            "memory usage: 107.3 KB\n"
          ]
        }
      ]
    },
    {
      "cell_type": "code",
      "source": [
        "Good = WineQ_df[WineQ_df['quality'] > 0]\n",
        "Bad =  WineQ_df[WineQ_df['quality'] < 1][0:158]"
      ],
      "metadata": {
        "id": "C_0GWVLmJkg_"
      },
      "execution_count": 23,
      "outputs": []
    },
    {
      "cell_type": "code",
      "source": [
        "#a_list = [Good,Bad]\n",
        "#balanced_df = pd.concat(a_list)"
      ],
      "metadata": {
        "id": "ZZ5CNgtQNBJg"
      },
      "execution_count": 24,
      "outputs": []
    },
    {
      "cell_type": "code",
      "source": [
        "#WineQ_df = balanced_df"
      ],
      "metadata": {
        "id": "eQEEI8SKPi2L"
      },
      "execution_count": 25,
      "outputs": []
    },
    {
      "cell_type": "code",
      "source": [
        "X = WineQ_df.drop(columns='quality')\n",
        "y = WineQ_df['quality']"
      ],
      "metadata": {
        "id": "ojOtOoSmupbi"
      },
      "execution_count": 26,
      "outputs": []
    },
    {
      "cell_type": "code",
      "source": [
        "#I used stratify= y to ensure that any randomn split is proportioned\n",
        "X_train, X_test, y_train, y_test = train_test_split(X, y, stratify=y, random_state=42, )"
      ],
      "metadata": {
        "id": "yQINvAr2vIek"
      },
      "execution_count": 27,
      "outputs": []
    },
    {
      "cell_type": "code",
      "source": [
        "#Selected num collumns using selector\n",
        "num_selector = make_column_selector(dtype_include='number')\n",
        "\n",
        "mean_imputer = SimpleImputer(strategy = 'mean')\n",
        "\n",
        "#Instantiated scaler to standardized to numeric columns to scale\n",
        "scaler = StandardScaler()\n",
        "ohe = OneHotEncoder()\n",
        "\n",
        "num_pipe = make_pipeline(mean_imputer,scaler)\n",
        "\n",
        "num_tuple = (num_pipe, num_selector)"
      ],
      "metadata": {
        "id": "TECKNr-WvuMg"
      },
      "execution_count": 28,
      "outputs": []
    },
    {
      "cell_type": "code",
      "source": [
        "#Checking to see if all numeric columns are in the num selector for training data\n",
        "num_selector(X_train)"
      ],
      "metadata": {
        "colab": {
          "base_uri": "https://localhost:8080/"
        },
        "id": "QZLLcJymRWSB",
        "outputId": "ab781d4a-6e22-418e-816b-05af8969bdd5"
      },
      "execution_count": 29,
      "outputs": [
        {
          "output_type": "execute_result",
          "data": {
            "text/plain": [
              "['fixed acidity',\n",
              " 'volatile acidity',\n",
              " 'citric acid',\n",
              " 'residual sugar',\n",
              " 'chlorides',\n",
              " 'free sulfur dioxide',\n",
              " 'total sulfur dioxide',\n",
              " 'density',\n",
              " 'pH',\n",
              " 'sulphates',\n",
              " 'alcohol']"
            ]
          },
          "metadata": {},
          "execution_count": 29
        }
      ]
    },
    {
      "cell_type": "code",
      "source": [
        "col_transformer = make_column_transformer(num_tuple, remainder = 'passthrough')"
      ],
      "metadata": {
        "id": "8YDFnkaItCWF"
      },
      "execution_count": 30,
      "outputs": []
    },
    {
      "cell_type": "code",
      "source": [
        "pipe0 = make_pipeline(col_transformer, ohe)"
      ],
      "metadata": {
        "id": "7H50DZs1WScI"
      },
      "execution_count": 31,
      "outputs": []
    },
    {
      "cell_type": "code",
      "source": [
        "from sklearn import set_config\n",
        "set_config(display='diagram')\n",
        "#fitting the column tranformer to the Xtrain data\n",
        "X_train_processed = pipe0.fit(X_train)\n",
        "X_train_processed"
      ],
      "metadata": {
        "colab": {
          "base_uri": "https://localhost:8080/",
          "height": 227
        },
        "id": "zVjaTVcYtKzh",
        "outputId": "a8cc9b8c-3b5d-49d5-e813-cbe3d6a2f589"
      },
      "execution_count": 32,
      "outputs": [
        {
          "output_type": "execute_result",
          "data": {
            "text/plain": [
              "Pipeline(steps=[('columntransformer',\n",
              "                 ColumnTransformer(remainder='passthrough',\n",
              "                                   transformers=[('pipeline',\n",
              "                                                  Pipeline(steps=[('simpleimputer',\n",
              "                                                                   SimpleImputer()),\n",
              "                                                                  ('standardscaler',\n",
              "                                                                   StandardScaler())]),\n",
              "                                                  <sklearn.compose._column_transformer.make_column_selector object at 0x7f60dc7893d0>)])),\n",
              "                ('onehotencoder', OneHotEncoder())])"
            ],
            "text/html": [
              "<style>#sk-3f9f71f1-9c0e-4714-81a6-723d3599a33b {color: black;background-color: white;}#sk-3f9f71f1-9c0e-4714-81a6-723d3599a33b pre{padding: 0;}#sk-3f9f71f1-9c0e-4714-81a6-723d3599a33b div.sk-toggleable {background-color: white;}#sk-3f9f71f1-9c0e-4714-81a6-723d3599a33b label.sk-toggleable__label {cursor: pointer;display: block;width: 100%;margin-bottom: 0;padding: 0.3em;box-sizing: border-box;text-align: center;}#sk-3f9f71f1-9c0e-4714-81a6-723d3599a33b label.sk-toggleable__label-arrow:before {content: \"▸\";float: left;margin-right: 0.25em;color: #696969;}#sk-3f9f71f1-9c0e-4714-81a6-723d3599a33b label.sk-toggleable__label-arrow:hover:before {color: black;}#sk-3f9f71f1-9c0e-4714-81a6-723d3599a33b div.sk-estimator:hover label.sk-toggleable__label-arrow:before {color: black;}#sk-3f9f71f1-9c0e-4714-81a6-723d3599a33b div.sk-toggleable__content {max-height: 0;max-width: 0;overflow: hidden;text-align: left;background-color: #f0f8ff;}#sk-3f9f71f1-9c0e-4714-81a6-723d3599a33b div.sk-toggleable__content pre {margin: 0.2em;color: black;border-radius: 0.25em;background-color: #f0f8ff;}#sk-3f9f71f1-9c0e-4714-81a6-723d3599a33b input.sk-toggleable__control:checked~div.sk-toggleable__content {max-height: 200px;max-width: 100%;overflow: auto;}#sk-3f9f71f1-9c0e-4714-81a6-723d3599a33b input.sk-toggleable__control:checked~label.sk-toggleable__label-arrow:before {content: \"▾\";}#sk-3f9f71f1-9c0e-4714-81a6-723d3599a33b div.sk-estimator input.sk-toggleable__control:checked~label.sk-toggleable__label {background-color: #d4ebff;}#sk-3f9f71f1-9c0e-4714-81a6-723d3599a33b div.sk-label input.sk-toggleable__control:checked~label.sk-toggleable__label {background-color: #d4ebff;}#sk-3f9f71f1-9c0e-4714-81a6-723d3599a33b input.sk-hidden--visually {border: 0;clip: rect(1px 1px 1px 1px);clip: rect(1px, 1px, 1px, 1px);height: 1px;margin: -1px;overflow: hidden;padding: 0;position: absolute;width: 1px;}#sk-3f9f71f1-9c0e-4714-81a6-723d3599a33b div.sk-estimator {font-family: monospace;background-color: #f0f8ff;border: 1px dotted black;border-radius: 0.25em;box-sizing: border-box;margin-bottom: 0.5em;}#sk-3f9f71f1-9c0e-4714-81a6-723d3599a33b div.sk-estimator:hover {background-color: #d4ebff;}#sk-3f9f71f1-9c0e-4714-81a6-723d3599a33b div.sk-parallel-item::after {content: \"\";width: 100%;border-bottom: 1px solid gray;flex-grow: 1;}#sk-3f9f71f1-9c0e-4714-81a6-723d3599a33b div.sk-label:hover label.sk-toggleable__label {background-color: #d4ebff;}#sk-3f9f71f1-9c0e-4714-81a6-723d3599a33b div.sk-serial::before {content: \"\";position: absolute;border-left: 1px solid gray;box-sizing: border-box;top: 2em;bottom: 0;left: 50%;}#sk-3f9f71f1-9c0e-4714-81a6-723d3599a33b div.sk-serial {display: flex;flex-direction: column;align-items: center;background-color: white;padding-right: 0.2em;padding-left: 0.2em;}#sk-3f9f71f1-9c0e-4714-81a6-723d3599a33b div.sk-item {z-index: 1;}#sk-3f9f71f1-9c0e-4714-81a6-723d3599a33b div.sk-parallel {display: flex;align-items: stretch;justify-content: center;background-color: white;}#sk-3f9f71f1-9c0e-4714-81a6-723d3599a33b div.sk-parallel::before {content: \"\";position: absolute;border-left: 1px solid gray;box-sizing: border-box;top: 2em;bottom: 0;left: 50%;}#sk-3f9f71f1-9c0e-4714-81a6-723d3599a33b div.sk-parallel-item {display: flex;flex-direction: column;position: relative;background-color: white;}#sk-3f9f71f1-9c0e-4714-81a6-723d3599a33b div.sk-parallel-item:first-child::after {align-self: flex-end;width: 50%;}#sk-3f9f71f1-9c0e-4714-81a6-723d3599a33b div.sk-parallel-item:last-child::after {align-self: flex-start;width: 50%;}#sk-3f9f71f1-9c0e-4714-81a6-723d3599a33b div.sk-parallel-item:only-child::after {width: 0;}#sk-3f9f71f1-9c0e-4714-81a6-723d3599a33b div.sk-dashed-wrapped {border: 1px dashed gray;margin: 0 0.4em 0.5em 0.4em;box-sizing: border-box;padding-bottom: 0.4em;background-color: white;position: relative;}#sk-3f9f71f1-9c0e-4714-81a6-723d3599a33b div.sk-label label {font-family: monospace;font-weight: bold;background-color: white;display: inline-block;line-height: 1.2em;}#sk-3f9f71f1-9c0e-4714-81a6-723d3599a33b div.sk-label-container {position: relative;z-index: 2;text-align: center;}#sk-3f9f71f1-9c0e-4714-81a6-723d3599a33b div.sk-container {/* jupyter's `normalize.less` sets `[hidden] { display: none; }` but bootstrap.min.css set `[hidden] { display: none !important; }` so we also need the `!important` here to be able to override the default hidden behavior on the sphinx rendered scikit-learn.org. See: https://github.com/scikit-learn/scikit-learn/issues/21755 */display: inline-block !important;position: relative;}#sk-3f9f71f1-9c0e-4714-81a6-723d3599a33b div.sk-text-repr-fallback {display: none;}</style><div id=\"sk-3f9f71f1-9c0e-4714-81a6-723d3599a33b\" class=\"sk-top-container\"><div class=\"sk-text-repr-fallback\"><pre>Pipeline(steps=[(&#x27;columntransformer&#x27;,\n",
              "                 ColumnTransformer(remainder=&#x27;passthrough&#x27;,\n",
              "                                   transformers=[(&#x27;pipeline&#x27;,\n",
              "                                                  Pipeline(steps=[(&#x27;simpleimputer&#x27;,\n",
              "                                                                   SimpleImputer()),\n",
              "                                                                  (&#x27;standardscaler&#x27;,\n",
              "                                                                   StandardScaler())]),\n",
              "                                                  &lt;sklearn.compose._column_transformer.make_column_selector object at 0x7f60dc7893d0&gt;)])),\n",
              "                (&#x27;onehotencoder&#x27;, OneHotEncoder())])</pre><b>Please rerun this cell to show the HTML repr or trust the notebook.</b></div><div class=\"sk-container\" hidden><div class=\"sk-item sk-dashed-wrapped\"><div class=\"sk-label-container\"><div class=\"sk-label sk-toggleable\"><input class=\"sk-toggleable__control sk-hidden--visually\" id=\"bb4e7d78-29ff-46cc-8a0c-3991ccfdd01f\" type=\"checkbox\" ><label for=\"bb4e7d78-29ff-46cc-8a0c-3991ccfdd01f\" class=\"sk-toggleable__label sk-toggleable__label-arrow\">Pipeline</label><div class=\"sk-toggleable__content\"><pre>Pipeline(steps=[(&#x27;columntransformer&#x27;,\n",
              "                 ColumnTransformer(remainder=&#x27;passthrough&#x27;,\n",
              "                                   transformers=[(&#x27;pipeline&#x27;,\n",
              "                                                  Pipeline(steps=[(&#x27;simpleimputer&#x27;,\n",
              "                                                                   SimpleImputer()),\n",
              "                                                                  (&#x27;standardscaler&#x27;,\n",
              "                                                                   StandardScaler())]),\n",
              "                                                  &lt;sklearn.compose._column_transformer.make_column_selector object at 0x7f60dc7893d0&gt;)])),\n",
              "                (&#x27;onehotencoder&#x27;, OneHotEncoder())])</pre></div></div></div><div class=\"sk-serial\"><div class=\"sk-item sk-dashed-wrapped\"><div class=\"sk-label-container\"><div class=\"sk-label sk-toggleable\"><input class=\"sk-toggleable__control sk-hidden--visually\" id=\"7524f173-fbbc-49ab-bc07-9c6e389b52e5\" type=\"checkbox\" ><label for=\"7524f173-fbbc-49ab-bc07-9c6e389b52e5\" class=\"sk-toggleable__label sk-toggleable__label-arrow\">columntransformer: ColumnTransformer</label><div class=\"sk-toggleable__content\"><pre>ColumnTransformer(remainder=&#x27;passthrough&#x27;,\n",
              "                  transformers=[(&#x27;pipeline&#x27;,\n",
              "                                 Pipeline(steps=[(&#x27;simpleimputer&#x27;,\n",
              "                                                  SimpleImputer()),\n",
              "                                                 (&#x27;standardscaler&#x27;,\n",
              "                                                  StandardScaler())]),\n",
              "                                 &lt;sklearn.compose._column_transformer.make_column_selector object at 0x7f60dc7893d0&gt;)])</pre></div></div></div><div class=\"sk-parallel\"><div class=\"sk-parallel-item\"><div class=\"sk-item\"><div class=\"sk-label-container\"><div class=\"sk-label sk-toggleable\"><input class=\"sk-toggleable__control sk-hidden--visually\" id=\"fac44b24-cfc2-427a-ba25-d991d49d1c37\" type=\"checkbox\" ><label for=\"fac44b24-cfc2-427a-ba25-d991d49d1c37\" class=\"sk-toggleable__label sk-toggleable__label-arrow\">pipeline</label><div class=\"sk-toggleable__content\"><pre>&lt;sklearn.compose._column_transformer.make_column_selector object at 0x7f60dc7893d0&gt;</pre></div></div></div><div class=\"sk-serial\"><div class=\"sk-item\"><div class=\"sk-serial\"><div class=\"sk-item\"><div class=\"sk-estimator sk-toggleable\"><input class=\"sk-toggleable__control sk-hidden--visually\" id=\"4dd60a42-e61d-40fe-8766-d30ad3a326cb\" type=\"checkbox\" ><label for=\"4dd60a42-e61d-40fe-8766-d30ad3a326cb\" class=\"sk-toggleable__label sk-toggleable__label-arrow\">SimpleImputer</label><div class=\"sk-toggleable__content\"><pre>SimpleImputer()</pre></div></div></div><div class=\"sk-item\"><div class=\"sk-estimator sk-toggleable\"><input class=\"sk-toggleable__control sk-hidden--visually\" id=\"8f440731-a009-484f-93bd-7ec1dd16a381\" type=\"checkbox\" ><label for=\"8f440731-a009-484f-93bd-7ec1dd16a381\" class=\"sk-toggleable__label sk-toggleable__label-arrow\">StandardScaler</label><div class=\"sk-toggleable__content\"><pre>StandardScaler()</pre></div></div></div></div></div></div></div></div><div class=\"sk-parallel-item\"><div class=\"sk-item\"><div class=\"sk-label-container\"><div class=\"sk-label sk-toggleable\"><input class=\"sk-toggleable__control sk-hidden--visually\" id=\"c8a94396-33ac-4cf6-a44f-02925c7a77a3\" type=\"checkbox\" ><label for=\"c8a94396-33ac-4cf6-a44f-02925c7a77a3\" class=\"sk-toggleable__label sk-toggleable__label-arrow\">remainder</label><div class=\"sk-toggleable__content\"><pre>[]</pre></div></div></div><div class=\"sk-serial\"><div class=\"sk-item\"><div class=\"sk-estimator sk-toggleable\"><input class=\"sk-toggleable__control sk-hidden--visually\" id=\"877cda8a-323f-424d-858c-48ca7920b77c\" type=\"checkbox\" ><label for=\"877cda8a-323f-424d-858c-48ca7920b77c\" class=\"sk-toggleable__label sk-toggleable__label-arrow\">passthrough</label><div class=\"sk-toggleable__content\"><pre>passthrough</pre></div></div></div></div></div></div></div></div><div class=\"sk-item\"><div class=\"sk-estimator sk-toggleable\"><input class=\"sk-toggleable__control sk-hidden--visually\" id=\"77c8c270-708f-4715-a653-b213e01afc28\" type=\"checkbox\" ><label for=\"77c8c270-708f-4715-a653-b213e01afc28\" class=\"sk-toggleable__label sk-toggleable__label-arrow\">OneHotEncoder</label><div class=\"sk-toggleable__content\"><pre>OneHotEncoder()</pre></div></div></div></div></div></div></div>"
            ]
          },
          "metadata": {},
          "execution_count": 32
        }
      ]
    },
    {
      "cell_type": "code",
      "source": [
        "from sklearn.decomposition import PCA\n",
        "from sklearn.pipeline import make_pipeline\n",
        "\n",
        "pca = PCA(n_components = .95)\n",
        "\n",
        "processing = make_pipeline(scaler, pca)\n",
        "\n",
        "print('Shape before PCA:', X_train.shape)\n",
        "print('Shape after PCA:', processing.fit_transform(X_train).shape)\n",
        "print('Column count reduced by: ', X_train.shape[1] - processing.fit_transform(X_train).shape[1])"
      ],
      "metadata": {
        "colab": {
          "base_uri": "https://localhost:8080/"
        },
        "id": "hAum2wlquXEe",
        "outputId": "b9cfd133-793e-4161-9fe1-c1537ca65158"
      },
      "execution_count": 33,
      "outputs": [
        {
          "output_type": "stream",
          "name": "stdout",
          "text": [
            "Shape before PCA: (857, 11)\n",
            "Shape after PCA: (857, 9)\n",
            "Column count reduced by:  2\n"
          ]
        }
      ]
    },
    {
      "cell_type": "code",
      "source": [
        "#Extracting the steps from each pipeline\n",
        "col_transformer.named_transformers_"
      ],
      "metadata": {
        "colab": {
          "base_uri": "https://localhost:8080/"
        },
        "id": "A-XAPp9WtSaG",
        "outputId": "35cff74c-f5a2-441c-f870-ca6baf216ca8"
      },
      "execution_count": 34,
      "outputs": [
        {
          "output_type": "execute_result",
          "data": {
            "text/plain": [
              "{'pipeline': Pipeline(steps=[('simpleimputer', SimpleImputer()),\n",
              "                 ('standardscaler', StandardScaler())])}"
            ]
          },
          "metadata": {},
          "execution_count": 34
        }
      ]
    },
    {
      "cell_type": "code",
      "source": [
        "final_cols = num_selector(X_train)\n",
        "final_cols"
      ],
      "metadata": {
        "colab": {
          "base_uri": "https://localhost:8080/"
        },
        "id": "soMI-3l2toTj",
        "outputId": "66f1640e-fe0a-4126-eb92-e839fd206aed"
      },
      "execution_count": 35,
      "outputs": [
        {
          "output_type": "execute_result",
          "data": {
            "text/plain": [
              "['fixed acidity',\n",
              " 'volatile acidity',\n",
              " 'citric acid',\n",
              " 'residual sugar',\n",
              " 'chlorides',\n",
              " 'free sulfur dioxide',\n",
              " 'total sulfur dioxide',\n",
              " 'density',\n",
              " 'pH',\n",
              " 'sulphates',\n",
              " 'alcohol']"
            ]
          },
          "metadata": {},
          "execution_count": 35
        }
      ]
    },
    {
      "cell_type": "code",
      "source": [
        "#Transforming the X_train and X_test into an array\n",
        "X_train_transformed = col_transformer.transform(X_train)\n",
        "\n",
        "X_test_transformed = col_transformer.transform(X_test)"
      ],
      "metadata": {
        "id": "e2_jP61Sty00"
      },
      "execution_count": 36,
      "outputs": []
    },
    {
      "cell_type": "code",
      "source": [
        "#Converted both into individual dataframes all data has been encoded and scaled to apply to our models\n",
        "X_train_output = pd.DataFrame(X_train_transformed, columns = final_cols)\n",
        "\n",
        "X_test_output = pd.DataFrame(X_test_transformed, columns = final_cols)"
      ],
      "metadata": {
        "id": "zH0pAbAyt4NS"
      },
      "execution_count": 37,
      "outputs": []
    },
    {
      "cell_type": "code",
      "source": [
        "#Checking both outputs everything is scaled and encoded\n",
        "print(X_train_output.head()),\n",
        "print('n/'),\n",
        "print(X_test_output.head())"
      ],
      "metadata": {
        "colab": {
          "base_uri": "https://localhost:8080/"
        },
        "id": "naZPsCnduKgi",
        "outputId": "eaf7f838-a205-4b68-fde0-52d1e3043a5c"
      },
      "execution_count": 38,
      "outputs": [
        {
          "output_type": "stream",
          "name": "stdout",
          "text": [
            "   fixed acidity  volatile acidity  citric acid  residual sugar  chlorides  \\\n",
            "0       0.503090          0.004368    -0.150502        0.035160  -0.172527   \n",
            "1       0.161316         -1.215084     0.679288       -0.240332  -0.149006   \n",
            "2      -0.864007          0.458118    -1.187741       -0.722444  -0.666477   \n",
            "3      -0.693120          1.280539    -0.617260       -0.515825   0.509594   \n",
            "4       1.072714          0.798430     0.627426       -0.446952  -0.737041   \n",
            "\n",
            "   free sulfur dioxide  total sulfur dioxide   density        pH  sulphates  \\\n",
            "0             1.292176              2.825055  0.589361 -0.638186  -0.517056   \n",
            "1            -1.236700             -1.184141 -0.822727 -0.255453   0.077253   \n",
            "2            -1.034390             -1.063564 -0.756216  0.701380  -0.338763   \n",
            "3             0.482936              1.167117 -0.408310 -0.765764  -0.933073   \n",
            "4            -0.933235             -0.852553  0.446106 -0.893342  -1.111366   \n",
            "\n",
            "    alcohol  \n",
            "0 -0.859263  \n",
            "1  1.344484  \n",
            "2 -0.859263  \n",
            "3 -0.859263  \n",
            "4 -0.400149  \n",
            "n/\n",
            "   fixed acidity  volatile acidity  citric acid  residual sugar  chlorides  \\\n",
            "0      -0.750082          0.883508    -1.395189       -0.446952   0.321423   \n",
            "1       0.047391          0.514836    -0.772846       -0.515825  -0.313656   \n",
            "2      -0.009571          0.061087    -0.150502        0.586144  -0.219570   \n",
            "3      -0.807045         -0.732975    -0.669122       -0.102586  -0.007877   \n",
            "4       2.098038         -0.846412     1.509079       -0.309205   0.180294   \n",
            "\n",
            "   free sulfur dioxide  total sulfur dioxide   density        pH  sulphates  \\\n",
            "0            -0.629770             -0.701832 -0.341798  0.191069  -0.338763   \n",
            "1             2.303726              0.021632 -0.863657  0.446224   1.384735   \n",
            "2             0.078315              2.011158  0.446106 -0.255453  -0.279333   \n",
            "3             0.584091             -0.159234  0.036805  0.765168  -0.160471   \n",
            "4            -0.933235             -0.641543  1.290289 -1.084708   0.314977   \n",
            "\n",
            "    alcohol  \n",
            "0 -0.675617  \n",
            "1  1.252662  \n",
            "2 -0.951086  \n",
            "3 -0.675617  \n",
            "4  0.426256  \n"
          ]
        }
      ]
    },
    {
      "cell_type": "markdown",
      "source": [
        "#Baseline Model"
      ],
      "metadata": {
        "id": "Yvw_CFdmyxUt"
      }
    },
    {
      "cell_type": "code",
      "source": [
        "from sklearn.metrics import accuracy_score, recall_score, precision_score, \\\n",
        "f1_score, classification_report, confusion_matrix\n",
        "from sklearn.metrics import ConfusionMatrixDisplay"
      ],
      "metadata": {
        "id": "DjibJ8hvPA9H"
      },
      "execution_count": 39,
      "outputs": []
    },
    {
      "cell_type": "code",
      "source": [
        "#Created a function to get our training and testing metrics to evaluate our classification models\n",
        "def evaluate_classification(y_true, y_predicted, average=None):\n",
        "  accuracy = accuracy_score(y_true, y_predicted)\n",
        "  recall = recall_score(y_true, y_predicted, average=average)\n",
        "  precision = precision_score(y_true, y_predicted, average=average)\n",
        "  f1 = f1_score(y_true, y_predicted, average=average)\n",
        "\n",
        "  print(f'Accuracy: {accuracy} \\nRecall: {recall} \\nPrecision: {precision} \\nF1 Score: {f1}')"
      ],
      "metadata": {
        "id": "l_AvnxnOOsg7"
      },
      "execution_count": 40,
      "outputs": []
    },
    {
      "cell_type": "code",
      "source": [
        "#Creating and evaluating a baseline\n",
        "from sklearn.dummy import DummyClassifier\n",
        "\n",
        "dummy = DummyClassifier(strategy=\"stratified\")\n",
        "\n",
        "dummy_pipe = make_pipeline(scaler, dummy)\n",
        "\n",
        "dummy_pipe.fit(X_train, y_train)"
      ],
      "metadata": {
        "colab": {
          "base_uri": "https://localhost:8080/",
          "height": 126
        },
        "id": "gnK1ZJjFpSZa",
        "outputId": "bc05616c-f2ae-4320-ce9e-2531a21b9973"
      },
      "execution_count": 41,
      "outputs": [
        {
          "output_type": "execute_result",
          "data": {
            "text/plain": [
              "Pipeline(steps=[('standardscaler', StandardScaler()),\n",
              "                ('dummyclassifier', DummyClassifier(strategy='stratified'))])"
            ],
            "text/html": [
              "<style>#sk-157595c9-0aa3-4b68-8e23-c153d13f8672 {color: black;background-color: white;}#sk-157595c9-0aa3-4b68-8e23-c153d13f8672 pre{padding: 0;}#sk-157595c9-0aa3-4b68-8e23-c153d13f8672 div.sk-toggleable {background-color: white;}#sk-157595c9-0aa3-4b68-8e23-c153d13f8672 label.sk-toggleable__label {cursor: pointer;display: block;width: 100%;margin-bottom: 0;padding: 0.3em;box-sizing: border-box;text-align: center;}#sk-157595c9-0aa3-4b68-8e23-c153d13f8672 label.sk-toggleable__label-arrow:before {content: \"▸\";float: left;margin-right: 0.25em;color: #696969;}#sk-157595c9-0aa3-4b68-8e23-c153d13f8672 label.sk-toggleable__label-arrow:hover:before {color: black;}#sk-157595c9-0aa3-4b68-8e23-c153d13f8672 div.sk-estimator:hover label.sk-toggleable__label-arrow:before {color: black;}#sk-157595c9-0aa3-4b68-8e23-c153d13f8672 div.sk-toggleable__content {max-height: 0;max-width: 0;overflow: hidden;text-align: left;background-color: #f0f8ff;}#sk-157595c9-0aa3-4b68-8e23-c153d13f8672 div.sk-toggleable__content pre {margin: 0.2em;color: black;border-radius: 0.25em;background-color: #f0f8ff;}#sk-157595c9-0aa3-4b68-8e23-c153d13f8672 input.sk-toggleable__control:checked~div.sk-toggleable__content {max-height: 200px;max-width: 100%;overflow: auto;}#sk-157595c9-0aa3-4b68-8e23-c153d13f8672 input.sk-toggleable__control:checked~label.sk-toggleable__label-arrow:before {content: \"▾\";}#sk-157595c9-0aa3-4b68-8e23-c153d13f8672 div.sk-estimator input.sk-toggleable__control:checked~label.sk-toggleable__label {background-color: #d4ebff;}#sk-157595c9-0aa3-4b68-8e23-c153d13f8672 div.sk-label input.sk-toggleable__control:checked~label.sk-toggleable__label {background-color: #d4ebff;}#sk-157595c9-0aa3-4b68-8e23-c153d13f8672 input.sk-hidden--visually {border: 0;clip: rect(1px 1px 1px 1px);clip: rect(1px, 1px, 1px, 1px);height: 1px;margin: -1px;overflow: hidden;padding: 0;position: absolute;width: 1px;}#sk-157595c9-0aa3-4b68-8e23-c153d13f8672 div.sk-estimator {font-family: monospace;background-color: #f0f8ff;border: 1px dotted black;border-radius: 0.25em;box-sizing: border-box;margin-bottom: 0.5em;}#sk-157595c9-0aa3-4b68-8e23-c153d13f8672 div.sk-estimator:hover {background-color: #d4ebff;}#sk-157595c9-0aa3-4b68-8e23-c153d13f8672 div.sk-parallel-item::after {content: \"\";width: 100%;border-bottom: 1px solid gray;flex-grow: 1;}#sk-157595c9-0aa3-4b68-8e23-c153d13f8672 div.sk-label:hover label.sk-toggleable__label {background-color: #d4ebff;}#sk-157595c9-0aa3-4b68-8e23-c153d13f8672 div.sk-serial::before {content: \"\";position: absolute;border-left: 1px solid gray;box-sizing: border-box;top: 2em;bottom: 0;left: 50%;}#sk-157595c9-0aa3-4b68-8e23-c153d13f8672 div.sk-serial {display: flex;flex-direction: column;align-items: center;background-color: white;padding-right: 0.2em;padding-left: 0.2em;}#sk-157595c9-0aa3-4b68-8e23-c153d13f8672 div.sk-item {z-index: 1;}#sk-157595c9-0aa3-4b68-8e23-c153d13f8672 div.sk-parallel {display: flex;align-items: stretch;justify-content: center;background-color: white;}#sk-157595c9-0aa3-4b68-8e23-c153d13f8672 div.sk-parallel::before {content: \"\";position: absolute;border-left: 1px solid gray;box-sizing: border-box;top: 2em;bottom: 0;left: 50%;}#sk-157595c9-0aa3-4b68-8e23-c153d13f8672 div.sk-parallel-item {display: flex;flex-direction: column;position: relative;background-color: white;}#sk-157595c9-0aa3-4b68-8e23-c153d13f8672 div.sk-parallel-item:first-child::after {align-self: flex-end;width: 50%;}#sk-157595c9-0aa3-4b68-8e23-c153d13f8672 div.sk-parallel-item:last-child::after {align-self: flex-start;width: 50%;}#sk-157595c9-0aa3-4b68-8e23-c153d13f8672 div.sk-parallel-item:only-child::after {width: 0;}#sk-157595c9-0aa3-4b68-8e23-c153d13f8672 div.sk-dashed-wrapped {border: 1px dashed gray;margin: 0 0.4em 0.5em 0.4em;box-sizing: border-box;padding-bottom: 0.4em;background-color: white;position: relative;}#sk-157595c9-0aa3-4b68-8e23-c153d13f8672 div.sk-label label {font-family: monospace;font-weight: bold;background-color: white;display: inline-block;line-height: 1.2em;}#sk-157595c9-0aa3-4b68-8e23-c153d13f8672 div.sk-label-container {position: relative;z-index: 2;text-align: center;}#sk-157595c9-0aa3-4b68-8e23-c153d13f8672 div.sk-container {/* jupyter's `normalize.less` sets `[hidden] { display: none; }` but bootstrap.min.css set `[hidden] { display: none !important; }` so we also need the `!important` here to be able to override the default hidden behavior on the sphinx rendered scikit-learn.org. See: https://github.com/scikit-learn/scikit-learn/issues/21755 */display: inline-block !important;position: relative;}#sk-157595c9-0aa3-4b68-8e23-c153d13f8672 div.sk-text-repr-fallback {display: none;}</style><div id=\"sk-157595c9-0aa3-4b68-8e23-c153d13f8672\" class=\"sk-top-container\"><div class=\"sk-text-repr-fallback\"><pre>Pipeline(steps=[(&#x27;standardscaler&#x27;, StandardScaler()),\n",
              "                (&#x27;dummyclassifier&#x27;, DummyClassifier(strategy=&#x27;stratified&#x27;))])</pre><b>Please rerun this cell to show the HTML repr or trust the notebook.</b></div><div class=\"sk-container\" hidden><div class=\"sk-item sk-dashed-wrapped\"><div class=\"sk-label-container\"><div class=\"sk-label sk-toggleable\"><input class=\"sk-toggleable__control sk-hidden--visually\" id=\"8bd924c7-9621-4519-a10a-e01465d644bd\" type=\"checkbox\" ><label for=\"8bd924c7-9621-4519-a10a-e01465d644bd\" class=\"sk-toggleable__label sk-toggleable__label-arrow\">Pipeline</label><div class=\"sk-toggleable__content\"><pre>Pipeline(steps=[(&#x27;standardscaler&#x27;, StandardScaler()),\n",
              "                (&#x27;dummyclassifier&#x27;, DummyClassifier(strategy=&#x27;stratified&#x27;))])</pre></div></div></div><div class=\"sk-serial\"><div class=\"sk-item\"><div class=\"sk-estimator sk-toggleable\"><input class=\"sk-toggleable__control sk-hidden--visually\" id=\"3d7a6b81-7746-4e04-ba13-3af6b6dde283\" type=\"checkbox\" ><label for=\"3d7a6b81-7746-4e04-ba13-3af6b6dde283\" class=\"sk-toggleable__label sk-toggleable__label-arrow\">StandardScaler</label><div class=\"sk-toggleable__content\"><pre>StandardScaler()</pre></div></div></div><div class=\"sk-item\"><div class=\"sk-estimator sk-toggleable\"><input class=\"sk-toggleable__control sk-hidden--visually\" id=\"5007c956-ee04-4aab-9840-d06d731eb093\" type=\"checkbox\" ><label for=\"5007c956-ee04-4aab-9840-d06d731eb093\" class=\"sk-toggleable__label sk-toggleable__label-arrow\">DummyClassifier</label><div class=\"sk-toggleable__content\"><pre>DummyClassifier(strategy=&#x27;stratified&#x27;)</pre></div></div></div></div></div></div></div>"
            ]
          },
          "metadata": {},
          "execution_count": 41
        }
      ]
    },
    {
      "cell_type": "code",
      "source": [
        "train_dummy_preds = dummy_pipe.predict(X_train)\n",
        "test_dummy_preds = dummy_pipe.predict(X_test)"
      ],
      "metadata": {
        "id": "uIUsAzLwpWYx"
      },
      "execution_count": 42,
      "outputs": []
    },
    {
      "cell_type": "markdown",
      "source": [
        "Randomn Forest Model"
      ],
      "metadata": {
        "id": "rax4ZSNkpmg5"
      }
    },
    {
      "cell_type": "code",
      "source": [
        "#Without PCA\n",
        "from sklearn.ensemble import RandomForestClassifier\n",
        "\n",
        "rf = RandomForestClassifier(random_state = 42)\n",
        "\n",
        "rf_pipe = make_pipeline(scaler, rf)"
      ],
      "metadata": {
        "id": "avhmn8l-pjBk"
      },
      "execution_count": 43,
      "outputs": []
    },
    {
      "cell_type": "code",
      "source": [
        "rf_pipe.get_params()"
      ],
      "metadata": {
        "colab": {
          "base_uri": "https://localhost:8080/"
        },
        "id": "hXL6nNZNpxUs",
        "outputId": "9a7590eb-df72-4b2f-fa07-c7be471d6b12"
      },
      "execution_count": 44,
      "outputs": [
        {
          "output_type": "execute_result",
          "data": {
            "text/plain": [
              "{'memory': None,\n",
              " 'steps': [('standardscaler', StandardScaler()),\n",
              "  ('randomforestclassifier', RandomForestClassifier(random_state=42))],\n",
              " 'verbose': False,\n",
              " 'standardscaler': StandardScaler(),\n",
              " 'randomforestclassifier': RandomForestClassifier(random_state=42),\n",
              " 'standardscaler__copy': True,\n",
              " 'standardscaler__with_mean': True,\n",
              " 'standardscaler__with_std': True,\n",
              " 'randomforestclassifier__bootstrap': True,\n",
              " 'randomforestclassifier__ccp_alpha': 0.0,\n",
              " 'randomforestclassifier__class_weight': None,\n",
              " 'randomforestclassifier__criterion': 'gini',\n",
              " 'randomforestclassifier__max_depth': None,\n",
              " 'randomforestclassifier__max_features': 'auto',\n",
              " 'randomforestclassifier__max_leaf_nodes': None,\n",
              " 'randomforestclassifier__max_samples': None,\n",
              " 'randomforestclassifier__min_impurity_decrease': 0.0,\n",
              " 'randomforestclassifier__min_samples_leaf': 1,\n",
              " 'randomforestclassifier__min_samples_split': 2,\n",
              " 'randomforestclassifier__min_weight_fraction_leaf': 0.0,\n",
              " 'randomforestclassifier__n_estimators': 100,\n",
              " 'randomforestclassifier__n_jobs': None,\n",
              " 'randomforestclassifier__oob_score': False,\n",
              " 'randomforestclassifier__random_state': 42,\n",
              " 'randomforestclassifier__verbose': 0,\n",
              " 'randomforestclassifier__warm_start': False}"
            ]
          },
          "metadata": {},
          "execution_count": 44
        }
      ]
    },
    {
      "cell_type": "code",
      "source": [
        "rf_param_grid = {\n",
        "    'randomforestclassifier__max_depth': (4, 8),\n",
        "    'randomforestclassifier__n_estimators': (200, 500, 1000),\n",
        "    'randomforestclassifier__min_samples_leaf': [3,15],   \n",
        "}"
      ],
      "metadata": {
        "id": "cUQ3EemNp45f"
      },
      "execution_count": 45,
      "outputs": []
    },
    {
      "cell_type": "code",
      "source": [
        "rf_pipe_gs = GridSearchCV(rf_pipe, rf_param_grid)"
      ],
      "metadata": {
        "id": "G8we72Klp6yf"
      },
      "execution_count": 46,
      "outputs": []
    },
    {
      "cell_type": "code",
      "source": [
        "%%time\n",
        "rf_pipe_gs.fit(X_train, y_train)\n",
        "print('Best RF Parameters:')\n",
        "print(rf_pipe_gs.best_params_)\n",
        "best_pipe = rf_pipe_gs.best_estimator_\n",
        "print(f'Accuracy of best RF model is: {best_pipe.score(X_test, y_test)}')"
      ],
      "metadata": {
        "colab": {
          "base_uri": "https://localhost:8080/"
        },
        "id": "RQkbmkkWq4o4",
        "outputId": "3179456e-bc33-4e1c-f3bb-5986c1e0109e"
      },
      "execution_count": 47,
      "outputs": [
        {
          "output_type": "stream",
          "name": "stdout",
          "text": [
            "Best RF Parameters:\n",
            "{'randomforestclassifier__max_depth': 8, 'randomforestclassifier__min_samples_leaf': 3, 'randomforestclassifier__n_estimators': 500}\n",
            "Accuracy of best RF model is: 0.8881118881118881\n",
            "CPU times: user 1min 23s, sys: 1.06 s, total: 1min 24s\n",
            "Wall time: 1min 24s\n"
          ]
        }
      ]
    },
    {
      "cell_type": "code",
      "source": [
        "best_pipe.fit(X_train, y_train)"
      ],
      "metadata": {
        "colab": {
          "base_uri": "https://localhost:8080/",
          "height": 126
        },
        "id": "9HZRcl92q64C",
        "outputId": "1b0490c6-660d-4b54-aadc-1cd103b97ed0"
      },
      "execution_count": 48,
      "outputs": [
        {
          "output_type": "execute_result",
          "data": {
            "text/plain": [
              "Pipeline(steps=[('standardscaler', StandardScaler()),\n",
              "                ('randomforestclassifier',\n",
              "                 RandomForestClassifier(max_depth=8, min_samples_leaf=3,\n",
              "                                        n_estimators=500, random_state=42))])"
            ],
            "text/html": [
              "<style>#sk-334d9f1d-df26-42bc-bf33-d4174b889b29 {color: black;background-color: white;}#sk-334d9f1d-df26-42bc-bf33-d4174b889b29 pre{padding: 0;}#sk-334d9f1d-df26-42bc-bf33-d4174b889b29 div.sk-toggleable {background-color: white;}#sk-334d9f1d-df26-42bc-bf33-d4174b889b29 label.sk-toggleable__label {cursor: pointer;display: block;width: 100%;margin-bottom: 0;padding: 0.3em;box-sizing: border-box;text-align: center;}#sk-334d9f1d-df26-42bc-bf33-d4174b889b29 label.sk-toggleable__label-arrow:before {content: \"▸\";float: left;margin-right: 0.25em;color: #696969;}#sk-334d9f1d-df26-42bc-bf33-d4174b889b29 label.sk-toggleable__label-arrow:hover:before {color: black;}#sk-334d9f1d-df26-42bc-bf33-d4174b889b29 div.sk-estimator:hover label.sk-toggleable__label-arrow:before {color: black;}#sk-334d9f1d-df26-42bc-bf33-d4174b889b29 div.sk-toggleable__content {max-height: 0;max-width: 0;overflow: hidden;text-align: left;background-color: #f0f8ff;}#sk-334d9f1d-df26-42bc-bf33-d4174b889b29 div.sk-toggleable__content pre {margin: 0.2em;color: black;border-radius: 0.25em;background-color: #f0f8ff;}#sk-334d9f1d-df26-42bc-bf33-d4174b889b29 input.sk-toggleable__control:checked~div.sk-toggleable__content {max-height: 200px;max-width: 100%;overflow: auto;}#sk-334d9f1d-df26-42bc-bf33-d4174b889b29 input.sk-toggleable__control:checked~label.sk-toggleable__label-arrow:before {content: \"▾\";}#sk-334d9f1d-df26-42bc-bf33-d4174b889b29 div.sk-estimator input.sk-toggleable__control:checked~label.sk-toggleable__label {background-color: #d4ebff;}#sk-334d9f1d-df26-42bc-bf33-d4174b889b29 div.sk-label input.sk-toggleable__control:checked~label.sk-toggleable__label {background-color: #d4ebff;}#sk-334d9f1d-df26-42bc-bf33-d4174b889b29 input.sk-hidden--visually {border: 0;clip: rect(1px 1px 1px 1px);clip: rect(1px, 1px, 1px, 1px);height: 1px;margin: -1px;overflow: hidden;padding: 0;position: absolute;width: 1px;}#sk-334d9f1d-df26-42bc-bf33-d4174b889b29 div.sk-estimator {font-family: monospace;background-color: #f0f8ff;border: 1px dotted black;border-radius: 0.25em;box-sizing: border-box;margin-bottom: 0.5em;}#sk-334d9f1d-df26-42bc-bf33-d4174b889b29 div.sk-estimator:hover {background-color: #d4ebff;}#sk-334d9f1d-df26-42bc-bf33-d4174b889b29 div.sk-parallel-item::after {content: \"\";width: 100%;border-bottom: 1px solid gray;flex-grow: 1;}#sk-334d9f1d-df26-42bc-bf33-d4174b889b29 div.sk-label:hover label.sk-toggleable__label {background-color: #d4ebff;}#sk-334d9f1d-df26-42bc-bf33-d4174b889b29 div.sk-serial::before {content: \"\";position: absolute;border-left: 1px solid gray;box-sizing: border-box;top: 2em;bottom: 0;left: 50%;}#sk-334d9f1d-df26-42bc-bf33-d4174b889b29 div.sk-serial {display: flex;flex-direction: column;align-items: center;background-color: white;padding-right: 0.2em;padding-left: 0.2em;}#sk-334d9f1d-df26-42bc-bf33-d4174b889b29 div.sk-item {z-index: 1;}#sk-334d9f1d-df26-42bc-bf33-d4174b889b29 div.sk-parallel {display: flex;align-items: stretch;justify-content: center;background-color: white;}#sk-334d9f1d-df26-42bc-bf33-d4174b889b29 div.sk-parallel::before {content: \"\";position: absolute;border-left: 1px solid gray;box-sizing: border-box;top: 2em;bottom: 0;left: 50%;}#sk-334d9f1d-df26-42bc-bf33-d4174b889b29 div.sk-parallel-item {display: flex;flex-direction: column;position: relative;background-color: white;}#sk-334d9f1d-df26-42bc-bf33-d4174b889b29 div.sk-parallel-item:first-child::after {align-self: flex-end;width: 50%;}#sk-334d9f1d-df26-42bc-bf33-d4174b889b29 div.sk-parallel-item:last-child::after {align-self: flex-start;width: 50%;}#sk-334d9f1d-df26-42bc-bf33-d4174b889b29 div.sk-parallel-item:only-child::after {width: 0;}#sk-334d9f1d-df26-42bc-bf33-d4174b889b29 div.sk-dashed-wrapped {border: 1px dashed gray;margin: 0 0.4em 0.5em 0.4em;box-sizing: border-box;padding-bottom: 0.4em;background-color: white;position: relative;}#sk-334d9f1d-df26-42bc-bf33-d4174b889b29 div.sk-label label {font-family: monospace;font-weight: bold;background-color: white;display: inline-block;line-height: 1.2em;}#sk-334d9f1d-df26-42bc-bf33-d4174b889b29 div.sk-label-container {position: relative;z-index: 2;text-align: center;}#sk-334d9f1d-df26-42bc-bf33-d4174b889b29 div.sk-container {/* jupyter's `normalize.less` sets `[hidden] { display: none; }` but bootstrap.min.css set `[hidden] { display: none !important; }` so we also need the `!important` here to be able to override the default hidden behavior on the sphinx rendered scikit-learn.org. See: https://github.com/scikit-learn/scikit-learn/issues/21755 */display: inline-block !important;position: relative;}#sk-334d9f1d-df26-42bc-bf33-d4174b889b29 div.sk-text-repr-fallback {display: none;}</style><div id=\"sk-334d9f1d-df26-42bc-bf33-d4174b889b29\" class=\"sk-top-container\"><div class=\"sk-text-repr-fallback\"><pre>Pipeline(steps=[(&#x27;standardscaler&#x27;, StandardScaler()),\n",
              "                (&#x27;randomforestclassifier&#x27;,\n",
              "                 RandomForestClassifier(max_depth=8, min_samples_leaf=3,\n",
              "                                        n_estimators=500, random_state=42))])</pre><b>Please rerun this cell to show the HTML repr or trust the notebook.</b></div><div class=\"sk-container\" hidden><div class=\"sk-item sk-dashed-wrapped\"><div class=\"sk-label-container\"><div class=\"sk-label sk-toggleable\"><input class=\"sk-toggleable__control sk-hidden--visually\" id=\"8089105c-1c54-4b73-b30f-9ba02c4f6ca8\" type=\"checkbox\" ><label for=\"8089105c-1c54-4b73-b30f-9ba02c4f6ca8\" class=\"sk-toggleable__label sk-toggleable__label-arrow\">Pipeline</label><div class=\"sk-toggleable__content\"><pre>Pipeline(steps=[(&#x27;standardscaler&#x27;, StandardScaler()),\n",
              "                (&#x27;randomforestclassifier&#x27;,\n",
              "                 RandomForestClassifier(max_depth=8, min_samples_leaf=3,\n",
              "                                        n_estimators=500, random_state=42))])</pre></div></div></div><div class=\"sk-serial\"><div class=\"sk-item\"><div class=\"sk-estimator sk-toggleable\"><input class=\"sk-toggleable__control sk-hidden--visually\" id=\"6d5103f5-1bcb-4881-9473-4daa122b5230\" type=\"checkbox\" ><label for=\"6d5103f5-1bcb-4881-9473-4daa122b5230\" class=\"sk-toggleable__label sk-toggleable__label-arrow\">StandardScaler</label><div class=\"sk-toggleable__content\"><pre>StandardScaler()</pre></div></div></div><div class=\"sk-item\"><div class=\"sk-estimator sk-toggleable\"><input class=\"sk-toggleable__control sk-hidden--visually\" id=\"56965929-add4-43c2-a081-72e3d0ed9b94\" type=\"checkbox\" ><label for=\"56965929-add4-43c2-a081-72e3d0ed9b94\" class=\"sk-toggleable__label sk-toggleable__label-arrow\">RandomForestClassifier</label><div class=\"sk-toggleable__content\"><pre>RandomForestClassifier(max_depth=8, min_samples_leaf=3, n_estimators=500,\n",
              "                       random_state=42)</pre></div></div></div></div></div></div></div>"
            ]
          },
          "metadata": {},
          "execution_count": 48
        }
      ]
    },
    {
      "cell_type": "code",
      "source": [
        "#print result of the model\n",
        "test_preds = best_pipe.predict(X_test).round() \n",
        "print(classification_report(y_test, test_preds))\n",
        "cf = confusion_matrix(y_test, test_preds)\n",
        "sns.heatmap(cf, annot=True, cmap = 'Blues');"
      ],
      "metadata": {
        "colab": {
          "base_uri": "https://localhost:8080/",
          "height": 421
        },
        "id": "ph88UlhXOcyO",
        "outputId": "31368852-a1d6-4ddc-acdd-af244508e412"
      },
      "execution_count": 49,
      "outputs": [
        {
          "output_type": "stream",
          "name": "stdout",
          "text": [
            "              precision    recall  f1-score   support\n",
            "\n",
            "           0       0.91      0.97      0.94       246\n",
            "           1       0.67      0.40      0.50        40\n",
            "\n",
            "    accuracy                           0.89       286\n",
            "   macro avg       0.79      0.68      0.72       286\n",
            "weighted avg       0.87      0.89      0.88       286\n",
            "\n"
          ]
        },
        {
          "output_type": "display_data",
          "data": {
            "text/plain": [
              "<Figure size 432x288 with 2 Axes>"
            ],
            "image/png": "[encoded data removed]"
          },
          "metadata": {
            "needs_background": "light"
          }
        }
      ]
    },
    {
      "cell_type": "code",
      "source": [
        "train_rf_preds = best_pipe.predict(X_train)\n",
        "test_rf_preds = best_pipe.predict(X_test)\n",
        "\n",
        "best_pipe.predict(X_test)"
      ],
      "metadata": {
        "colab": {
          "base_uri": "https://localhost:8080/"
        },
        "id": "BbulwdJYsJyM",
        "outputId": "1d3d9ce1-1e7f-429a-9c32-8dcd5243e434"
      },
      "execution_count": 50,
      "outputs": [
        {
          "output_type": "execute_result",
          "data": {
            "text/plain": [
              "array([0, 0, 0, 0, 0, 0, 0, 1, 0, 0, 0, 0, 0, 0, 0, 1, 0, 0, 1, 0, 0, 0,\n",
              "       0, 0, 0, 0, 0, 1, 0, 0, 0, 0, 0, 0, 1, 0, 0, 0, 0, 1, 0, 0, 0, 0,\n",
              "       0, 0, 0, 0, 0, 0, 0, 1, 0, 0, 0, 0, 0, 0, 0, 0, 0, 0, 0, 0, 0, 0,\n",
              "       1, 0, 0, 0, 0, 0, 0, 0, 0, 0, 1, 0, 0, 0, 0, 0, 0, 0, 0, 0, 0, 0,\n",
              "       0, 0, 0, 0, 0, 0, 0, 0, 0, 0, 0, 0, 0, 0, 0, 0, 0, 0, 0, 0, 0, 1,\n",
              "       0, 0, 0, 0, 1, 0, 0, 0, 0, 0, 0, 0, 0, 0, 1, 0, 0, 0, 0, 0, 0, 0,\n",
              "       0, 0, 0, 1, 0, 0, 0, 0, 0, 0, 0, 0, 0, 0, 0, 0, 0, 0, 0, 0, 0, 0,\n",
              "       1, 0, 0, 0, 0, 0, 0, 0, 0, 0, 0, 0, 0, 0, 0, 0, 0, 0, 0, 0, 0, 0,\n",
              "       0, 0, 0, 0, 0, 0, 0, 0, 0, 1, 0, 0, 0, 0, 0, 0, 0, 0, 0, 0, 0, 1,\n",
              "       0, 0, 0, 0, 0, 0, 0, 0, 0, 0, 0, 0, 0, 0, 0, 0, 0, 0, 1, 0, 0, 1,\n",
              "       0, 0, 0, 0, 0, 0, 0, 0, 0, 0, 0, 0, 0, 0, 0, 0, 0, 0, 0, 0, 0, 0,\n",
              "       0, 0, 0, 0, 0, 0, 0, 1, 0, 1, 0, 0, 0, 0, 0, 0, 0, 0, 0, 1, 0, 0,\n",
              "       0, 0, 0, 0, 0, 0, 0, 0, 0, 1, 0, 1, 0, 0, 0, 0, 0, 0, 0, 0, 1, 0])"
            ]
          },
          "metadata": {},
          "execution_count": 50
        }
      ]
    },
    {
      "cell_type": "code",
      "source": [
        "#With PCA\n",
        "rf_pca_param_grid = {\n",
        "    'randomforestclassifier__max_depth': (4, 8),\n",
        "    'randomforestclassifier__n_estimators': (140, 280, 360),\n",
        "    'randomforestclassifier__min_samples_leaf': [3,15],   \n",
        "}"
      ],
      "metadata": {
        "id": "UiiOO85zxnTL"
      },
      "execution_count": 51,
      "outputs": []
    },
    {
      "cell_type": "code",
      "source": [
        "rf_pipe_pca = GridSearchCV(rf_pipe, rf_pca_param_grid)"
      ],
      "metadata": {
        "id": "Oydg9_nAyAyT"
      },
      "execution_count": 52,
      "outputs": []
    },
    {
      "cell_type": "code",
      "source": [
        "%%time\n",
        "rf_pipe_pca.fit(X_train, y_train)\n",
        "print('Best RF Parameters:')\n",
        "print(rf_pipe_pca.best_params_)\n",
        "best_pipe_pca = rf_pipe_pca.best_estimator_\n",
        "print(f'Accuracy of best RF model is: {best_pipe.score(X_test, y_test)}')"
      ],
      "metadata": {
        "colab": {
          "base_uri": "https://localhost:8080/"
        },
        "id": "6Qw_LfZZvmCF",
        "outputId": "04497cf6-a48f-41df-947e-d19fe941d098"
      },
      "execution_count": 53,
      "outputs": [
        {
          "output_type": "stream",
          "name": "stdout",
          "text": [
            "Best RF Parameters:\n",
            "{'randomforestclassifier__max_depth': 8, 'randomforestclassifier__min_samples_leaf': 3, 'randomforestclassifier__n_estimators': 360}\n",
            "Accuracy of best RF model is: 0.8881118881118881\n",
            "CPU times: user 41.5 s, sys: 499 ms, total: 42 s\n",
            "Wall time: 42.5 s\n"
          ]
        }
      ]
    },
    {
      "cell_type": "code",
      "source": [
        "#print result of the model\n",
        "test_preds = rf_pipe_pca.predict(X_test).round() \n",
        "print(classification_report(y_test, test_preds))\n",
        "cf = confusion_matrix(y_test, test_preds)\n",
        "sns.heatmap(cf, annot=True, cmap = 'Blues');"
      ],
      "metadata": {
        "colab": {
          "base_uri": "https://localhost:8080/",
          "height": 421
        },
        "id": "ht7suC2zYr__",
        "outputId": "cd3dc9bf-5435-49e7-b03a-afa5ea4f57e4"
      },
      "execution_count": 54,
      "outputs": [
        {
          "output_type": "stream",
          "name": "stdout",
          "text": [
            "              precision    recall  f1-score   support\n",
            "\n",
            "           0       0.91      0.97      0.94       246\n",
            "           1       0.70      0.40      0.51        40\n",
            "\n",
            "    accuracy                           0.89       286\n",
            "   macro avg       0.80      0.69      0.72       286\n",
            "weighted avg       0.88      0.89      0.88       286\n",
            "\n"
          ]
        },
        {
          "output_type": "display_data",
          "data": {
            "text/plain": [
              "<Figure size 432x288 with 2 Axes>"
            ],
            "image/png": "[encoded data removed]"
          },
          "metadata": {
            "needs_background": "light"
          }
        }
      ]
    },
    {
      "cell_type": "markdown",
      "source": [
        "XGBoost Model"
      ],
      "metadata": {
        "id": "rdGf74-DseGv"
      }
    },
    {
      "cell_type": "code",
      "source": [
        "from xgboost import XGBClassifier\n",
        "xgb = XGBClassifier()\n",
        "xgb_pipe = make_pipeline(col_transformer, xgb)\n",
        "xgb_pipe.fit(X_train, y_train)"
      ],
      "metadata": {
        "colab": {
          "base_uri": "https://localhost:8080/",
          "height": 227
        },
        "id": "GE0ohfqAscF5",
        "outputId": "c6c687e5-efbd-4b0f-8fff-7da0be5cd440"
      },
      "execution_count": 55,
      "outputs": [
        {
          "output_type": "execute_result",
          "data": {
            "text/plain": [
              "Pipeline(steps=[('columntransformer',\n",
              "                 ColumnTransformer(remainder='passthrough',\n",
              "                                   transformers=[('pipeline',\n",
              "                                                  Pipeline(steps=[('simpleimputer',\n",
              "                                                                   SimpleImputer()),\n",
              "                                                                  ('standardscaler',\n",
              "                                                                   StandardScaler())]),\n",
              "                                                  <sklearn.compose._column_transformer.make_column_selector object at 0x7f60dc7893d0>)])),\n",
              "                ('xgbclassifier', XGBClassifier())])"
            ],
            "text/html": [
              "<style>#sk-8e40658f-d6b0-451d-b82b-204b8a276603 {color: black;background-color: white;}#sk-8e40658f-d6b0-451d-b82b-204b8a276603 pre{padding: 0;}#sk-8e40658f-d6b0-451d-b82b-204b8a276603 div.sk-toggleable {background-color: white;}#sk-8e40658f-d6b0-451d-b82b-204b8a276603 label.sk-toggleable__label {cursor: pointer;display: block;width: 100%;margin-bottom: 0;padding: 0.3em;box-sizing: border-box;text-align: center;}#sk-8e40658f-d6b0-451d-b82b-204b8a276603 label.sk-toggleable__label-arrow:before {content: \"▸\";float: left;margin-right: 0.25em;color: #696969;}#sk-8e40658f-d6b0-451d-b82b-204b8a276603 label.sk-toggleable__label-arrow:hover:before {color: black;}#sk-8e40658f-d6b0-451d-b82b-204b8a276603 div.sk-estimator:hover label.sk-toggleable__label-arrow:before {color: black;}#sk-8e40658f-d6b0-451d-b82b-204b8a276603 div.sk-toggleable__content {max-height: 0;max-width: 0;overflow: hidden;text-align: left;background-color: #f0f8ff;}#sk-8e40658f-d6b0-451d-b82b-204b8a276603 div.sk-toggleable__content pre {margin: 0.2em;color: black;border-radius: 0.25em;background-color: #f0f8ff;}#sk-8e40658f-d6b0-451d-b82b-204b8a276603 input.sk-toggleable__control:checked~div.sk-toggleable__content {max-height: 200px;max-width: 100%;overflow: auto;}#sk-8e40658f-d6b0-451d-b82b-204b8a276603 input.sk-toggleable__control:checked~label.sk-toggleable__label-arrow:before {content: \"▾\";}#sk-8e40658f-d6b0-451d-b82b-204b8a276603 div.sk-estimator input.sk-toggleable__control:checked~label.sk-toggleable__label {background-color: #d4ebff;}#sk-8e40658f-d6b0-451d-b82b-204b8a276603 div.sk-label input.sk-toggleable__control:checked~label.sk-toggleable__label {background-color: #d4ebff;}#sk-8e40658f-d6b0-451d-b82b-204b8a276603 input.sk-hidden--visually {border: 0;clip: rect(1px 1px 1px 1px);clip: rect(1px, 1px, 1px, 1px);height: 1px;margin: -1px;overflow: hidden;padding: 0;position: absolute;width: 1px;}#sk-8e40658f-d6b0-451d-b82b-204b8a276603 div.sk-estimator {font-family: monospace;background-color: #f0f8ff;border: 1px dotted black;border-radius: 0.25em;box-sizing: border-box;margin-bottom: 0.5em;}#sk-8e40658f-d6b0-451d-b82b-204b8a276603 div.sk-estimator:hover {background-color: #d4ebff;}#sk-8e40658f-d6b0-451d-b82b-204b8a276603 div.sk-parallel-item::after {content: \"\";width: 100%;border-bottom: 1px solid gray;flex-grow: 1;}#sk-8e40658f-d6b0-451d-b82b-204b8a276603 div.sk-label:hover label.sk-toggleable__label {background-color: #d4ebff;}#sk-8e40658f-d6b0-451d-b82b-204b8a276603 div.sk-serial::before {content: \"\";position: absolute;border-left: 1px solid gray;box-sizing: border-box;top: 2em;bottom: 0;left: 50%;}#sk-8e40658f-d6b0-451d-b82b-204b8a276603 div.sk-serial {display: flex;flex-direction: column;align-items: center;background-color: white;padding-right: 0.2em;padding-left: 0.2em;}#sk-8e40658f-d6b0-451d-b82b-204b8a276603 div.sk-item {z-index: 1;}#sk-8e40658f-d6b0-451d-b82b-204b8a276603 div.sk-parallel {display: flex;align-items: stretch;justify-content: center;background-color: white;}#sk-8e40658f-d6b0-451d-b82b-204b8a276603 div.sk-parallel::before {content: \"\";position: absolute;border-left: 1px solid gray;box-sizing: border-box;top: 2em;bottom: 0;left: 50%;}#sk-8e40658f-d6b0-451d-b82b-204b8a276603 div.sk-parallel-item {display: flex;flex-direction: column;position: relative;background-color: white;}#sk-8e40658f-d6b0-451d-b82b-204b8a276603 div.sk-parallel-item:first-child::after {align-self: flex-end;width: 50%;}#sk-8e40658f-d6b0-451d-b82b-204b8a276603 div.sk-parallel-item:last-child::after {align-self: flex-start;width: 50%;}#sk-8e40658f-d6b0-451d-b82b-204b8a276603 div.sk-parallel-item:only-child::after {width: 0;}#sk-8e40658f-d6b0-451d-b82b-204b8a276603 div.sk-dashed-wrapped {border: 1px dashed gray;margin: 0 0.4em 0.5em 0.4em;box-sizing: border-box;padding-bottom: 0.4em;background-color: white;position: relative;}#sk-8e40658f-d6b0-451d-b82b-204b8a276603 div.sk-label label {font-family: monospace;font-weight: bold;background-color: white;display: inline-block;line-height: 1.2em;}#sk-8e40658f-d6b0-451d-b82b-204b8a276603 div.sk-label-container {position: relative;z-index: 2;text-align: center;}#sk-8e40658f-d6b0-451d-b82b-204b8a276603 div.sk-container {/* jupyter's `normalize.less` sets `[hidden] { display: none; }` but bootstrap.min.css set `[hidden] { display: none !important; }` so we also need the `!important` here to be able to override the default hidden behavior on the sphinx rendered scikit-learn.org. See: https://github.com/scikit-learn/scikit-learn/issues/21755 */display: inline-block !important;position: relative;}#sk-8e40658f-d6b0-451d-b82b-204b8a276603 div.sk-text-repr-fallback {display: none;}</style><div id=\"sk-8e40658f-d6b0-451d-b82b-204b8a276603\" class=\"sk-top-container\"><div class=\"sk-text-repr-fallback\"><pre>Pipeline(steps=[(&#x27;columntransformer&#x27;,\n",
              "                 ColumnTransformer(remainder=&#x27;passthrough&#x27;,\n",
              "                                   transformers=[(&#x27;pipeline&#x27;,\n",
              "                                                  Pipeline(steps=[(&#x27;simpleimputer&#x27;,\n",
              "                                                                   SimpleImputer()),\n",
              "                                                                  (&#x27;standardscaler&#x27;,\n",
              "                                                                   StandardScaler())]),\n",
              "                                                  &lt;sklearn.compose._column_transformer.make_column_selector object at 0x7f60dc7893d0&gt;)])),\n",
              "                (&#x27;xgbclassifier&#x27;, XGBClassifier())])</pre><b>Please rerun this cell to show the HTML repr or trust the notebook.</b></div><div class=\"sk-container\" hidden><div class=\"sk-item sk-dashed-wrapped\"><div class=\"sk-label-container\"><div class=\"sk-label sk-toggleable\"><input class=\"sk-toggleable__control sk-hidden--visually\" id=\"c27479b3-4c3a-4c40-8d16-e3611e44aa82\" type=\"checkbox\" ><label for=\"c27479b3-4c3a-4c40-8d16-e3611e44aa82\" class=\"sk-toggleable__label sk-toggleable__label-arrow\">Pipeline</label><div class=\"sk-toggleable__content\"><pre>Pipeline(steps=[(&#x27;columntransformer&#x27;,\n",
              "                 ColumnTransformer(remainder=&#x27;passthrough&#x27;,\n",
              "                                   transformers=[(&#x27;pipeline&#x27;,\n",
              "                                                  Pipeline(steps=[(&#x27;simpleimputer&#x27;,\n",
              "                                                                   SimpleImputer()),\n",
              "                                                                  (&#x27;standardscaler&#x27;,\n",
              "                                                                   StandardScaler())]),\n",
              "                                                  &lt;sklearn.compose._column_transformer.make_column_selector object at 0x7f60dc7893d0&gt;)])),\n",
              "                (&#x27;xgbclassifier&#x27;, XGBClassifier())])</pre></div></div></div><div class=\"sk-serial\"><div class=\"sk-item sk-dashed-wrapped\"><div class=\"sk-label-container\"><div class=\"sk-label sk-toggleable\"><input class=\"sk-toggleable__control sk-hidden--visually\" id=\"5f06fdb0-7de6-4693-8708-03f02b71664d\" type=\"checkbox\" ><label for=\"5f06fdb0-7de6-4693-8708-03f02b71664d\" class=\"sk-toggleable__label sk-toggleable__label-arrow\">columntransformer: ColumnTransformer</label><div class=\"sk-toggleable__content\"><pre>ColumnTransformer(remainder=&#x27;passthrough&#x27;,\n",
              "                  transformers=[(&#x27;pipeline&#x27;,\n",
              "                                 Pipeline(steps=[(&#x27;simpleimputer&#x27;,\n",
              "                                                  SimpleImputer()),\n",
              "                                                 (&#x27;standardscaler&#x27;,\n",
              "                                                  StandardScaler())]),\n",
              "                                 &lt;sklearn.compose._column_transformer.make_column_selector object at 0x7f60dc7893d0&gt;)])</pre></div></div></div><div class=\"sk-parallel\"><div class=\"sk-parallel-item\"><div class=\"sk-item\"><div class=\"sk-label-container\"><div class=\"sk-label sk-toggleable\"><input class=\"sk-toggleable__control sk-hidden--visually\" id=\"a5a04481-870a-4b6c-bb6d-3dbb2758556b\" type=\"checkbox\" ><label for=\"a5a04481-870a-4b6c-bb6d-3dbb2758556b\" class=\"sk-toggleable__label sk-toggleable__label-arrow\">pipeline</label><div class=\"sk-toggleable__content\"><pre>&lt;sklearn.compose._column_transformer.make_column_selector object at 0x7f60dc7893d0&gt;</pre></div></div></div><div class=\"sk-serial\"><div class=\"sk-item\"><div class=\"sk-serial\"><div class=\"sk-item\"><div class=\"sk-estimator sk-toggleable\"><input class=\"sk-toggleable__control sk-hidden--visually\" id=\"17ba1c08-5c3f-4226-8b03-7d09e23e93c0\" type=\"checkbox\" ><label for=\"17ba1c08-5c3f-4226-8b03-7d09e23e93c0\" class=\"sk-toggleable__label sk-toggleable__label-arrow\">SimpleImputer</label><div class=\"sk-toggleable__content\"><pre>SimpleImputer()</pre></div></div></div><div class=\"sk-item\"><div class=\"sk-estimator sk-toggleable\"><input class=\"sk-toggleable__control sk-hidden--visually\" id=\"f52cc102-7dd6-45b9-a0d3-f0f85bc32a76\" type=\"checkbox\" ><label for=\"f52cc102-7dd6-45b9-a0d3-f0f85bc32a76\" class=\"sk-toggleable__label sk-toggleable__label-arrow\">StandardScaler</label><div class=\"sk-toggleable__content\"><pre>StandardScaler()</pre></div></div></div></div></div></div></div></div><div class=\"sk-parallel-item\"><div class=\"sk-item\"><div class=\"sk-label-container\"><div class=\"sk-label sk-toggleable\"><input class=\"sk-toggleable__control sk-hidden--visually\" id=\"787f2a98-f6c8-44f4-bc1c-bc35aae630c8\" type=\"checkbox\" ><label for=\"787f2a98-f6c8-44f4-bc1c-bc35aae630c8\" class=\"sk-toggleable__label sk-toggleable__label-arrow\">remainder</label><div class=\"sk-toggleable__content\"><pre>[]</pre></div></div></div><div class=\"sk-serial\"><div class=\"sk-item\"><div class=\"sk-estimator sk-toggleable\"><input class=\"sk-toggleable__control sk-hidden--visually\" id=\"d7a11a03-a6d8-45f8-a911-885948b26eaa\" type=\"checkbox\" ><label for=\"d7a11a03-a6d8-45f8-a911-885948b26eaa\" class=\"sk-toggleable__label sk-toggleable__label-arrow\">passthrough</label><div class=\"sk-toggleable__content\"><pre>passthrough</pre></div></div></div></div></div></div></div></div><div class=\"sk-item\"><div class=\"sk-estimator sk-toggleable\"><input class=\"sk-toggleable__control sk-hidden--visually\" id=\"11607dc6-9229-4afd-84b8-4b705a06f1bc\" type=\"checkbox\" ><label for=\"11607dc6-9229-4afd-84b8-4b705a06f1bc\" class=\"sk-toggleable__label sk-toggleable__label-arrow\">XGBClassifier</label><div class=\"sk-toggleable__content\"><pre>XGBClassifier()</pre></div></div></div></div></div></div></div>"
            ]
          },
          "metadata": {},
          "execution_count": 55
        }
      ]
    },
    {
      "cell_type": "code",
      "source": [
        "xgb_pipe.get_params()"
      ],
      "metadata": {
        "colab": {
          "base_uri": "https://localhost:8080/"
        },
        "id": "pV44WbCzsnF3",
        "outputId": "35b3c8b4-0b34-4fc3-f0f6-2f850823095c"
      },
      "execution_count": 56,
      "outputs": [
        {
          "output_type": "execute_result",
          "data": {
            "text/plain": [
              "{'memory': None,\n",
              " 'steps': [('columntransformer', ColumnTransformer(remainder='passthrough',\n",
              "                     transformers=[('pipeline',\n",
              "                                    Pipeline(steps=[('simpleimputer',\n",
              "                                                     SimpleImputer()),\n",
              "                                                    ('standardscaler',\n",
              "                                                     StandardScaler())]),\n",
              "                                    <sklearn.compose._column_transformer.make_column_selector object at 0x7f60dc7893d0>)])),\n",
              "  ('xgbclassifier', XGBClassifier())],\n",
              " 'verbose': False,\n",
              " 'columntransformer': ColumnTransformer(remainder='passthrough',\n",
              "                   transformers=[('pipeline',\n",
              "                                  Pipeline(steps=[('simpleimputer',\n",
              "                                                   SimpleImputer()),\n",
              "                                                  ('standardscaler',\n",
              "                                                   StandardScaler())]),\n",
              "                                  <sklearn.compose._column_transformer.make_column_selector object at 0x7f60dc7893d0>)]),\n",
              " 'xgbclassifier': XGBClassifier(),\n",
              " 'columntransformer__n_jobs': None,\n",
              " 'columntransformer__remainder': 'passthrough',\n",
              " 'columntransformer__sparse_threshold': 0.3,\n",
              " 'columntransformer__transformer_weights': None,\n",
              " 'columntransformer__transformers': [('pipeline',\n",
              "   Pipeline(steps=[('simpleimputer', SimpleImputer()),\n",
              "                   ('standardscaler', StandardScaler())]),\n",
              "   <sklearn.compose._column_transformer.make_column_selector at 0x7f60dc7893d0>)],\n",
              " 'columntransformer__verbose': False,\n",
              " 'columntransformer__verbose_feature_names_out': True,\n",
              " 'columntransformer__pipeline': Pipeline(steps=[('simpleimputer', SimpleImputer()),\n",
              "                 ('standardscaler', StandardScaler())]),\n",
              " 'columntransformer__pipeline__memory': None,\n",
              " 'columntransformer__pipeline__steps': [('simpleimputer', SimpleImputer()),\n",
              "  ('standardscaler', StandardScaler())],\n",
              " 'columntransformer__pipeline__verbose': False,\n",
              " 'columntransformer__pipeline__simpleimputer': SimpleImputer(),\n",
              " 'columntransformer__pipeline__standardscaler': StandardScaler(),\n",
              " 'columntransformer__pipeline__simpleimputer__add_indicator': False,\n",
              " 'columntransformer__pipeline__simpleimputer__copy': True,\n",
              " 'columntransformer__pipeline__simpleimputer__fill_value': None,\n",
              " 'columntransformer__pipeline__simpleimputer__missing_values': nan,\n",
              " 'columntransformer__pipeline__simpleimputer__strategy': 'mean',\n",
              " 'columntransformer__pipeline__simpleimputer__verbose': 0,\n",
              " 'columntransformer__pipeline__standardscaler__copy': True,\n",
              " 'columntransformer__pipeline__standardscaler__with_mean': True,\n",
              " 'columntransformer__pipeline__standardscaler__with_std': True,\n",
              " 'xgbclassifier__base_score': 0.5,\n",
              " 'xgbclassifier__booster': 'gbtree',\n",
              " 'xgbclassifier__colsample_bylevel': 1,\n",
              " 'xgbclassifier__colsample_bynode': 1,\n",
              " 'xgbclassifier__colsample_bytree': 1,\n",
              " 'xgbclassifier__gamma': 0,\n",
              " 'xgbclassifier__learning_rate': 0.1,\n",
              " 'xgbclassifier__max_delta_step': 0,\n",
              " 'xgbclassifier__max_depth': 3,\n",
              " 'xgbclassifier__min_child_weight': 1,\n",
              " 'xgbclassifier__missing': None,\n",
              " 'xgbclassifier__n_estimators': 100,\n",
              " 'xgbclassifier__n_jobs': 1,\n",
              " 'xgbclassifier__nthread': None,\n",
              " 'xgbclassifier__objective': 'binary:logistic',\n",
              " 'xgbclassifier__random_state': 0,\n",
              " 'xgbclassifier__reg_alpha': 0,\n",
              " 'xgbclassifier__reg_lambda': 1,\n",
              " 'xgbclassifier__scale_pos_weight': 1,\n",
              " 'xgbclassifier__seed': None,\n",
              " 'xgbclassifier__silent': None,\n",
              " 'xgbclassifier__subsample': 1,\n",
              " 'xgbclassifier__verbosity': 1}"
            ]
          },
          "metadata": {},
          "execution_count": 56
        }
      ]
    },
    {
      "cell_type": "code",
      "source": [
        "xgb_param_grid = {\n",
        "    'xgbclassifier__max_depth': (2, 4, 8),\n",
        "    'xgbclassifier__n_estimators': (200, 500, 1000),\n",
        "    'xgbclassifier__min_samples_leaf': [3, 10,15],\n",
        "    'xgbclassifier__booster': ('gbtree', 'gblinear')   \n",
        "}"
      ],
      "metadata": {
        "id": "za-rS3JIsro-"
      },
      "execution_count": 57,
      "outputs": []
    },
    {
      "cell_type": "code",
      "source": [
        "xgb_pipe_gs = GridSearchCV(xgb_pipe, xgb_param_grid)"
      ],
      "metadata": {
        "id": "x7BTC9tBs6n4"
      },
      "execution_count": 58,
      "outputs": []
    },
    {
      "cell_type": "code",
      "source": [
        "%%time\n",
        "xgb_pipe_gs.fit(X_train, y_train)\n",
        "print('Best RF Parameters:')\n",
        "print(xgb_pipe_gs.best_params_)\n",
        "best_pipe2 = xgb_pipe_gs.best_estimator_\n",
        "print(f'Accuracy of best XGB model is: {best_pipe2.score(X_test, y_test)}')"
      ],
      "metadata": {
        "colab": {
          "base_uri": "https://localhost:8080/"
        },
        "id": "QG5ojK7zs9nb",
        "outputId": "6d19ec67-9d79-4557-a2d6-356af7f2a642"
      },
      "execution_count": 59,
      "outputs": [
        {
          "output_type": "stream",
          "name": "stdout",
          "text": [
            "Best RF Parameters:\n",
            "{'xgbclassifier__booster': 'gbtree', 'xgbclassifier__max_depth': 4, 'xgbclassifier__min_samples_leaf': 3, 'xgbclassifier__n_estimators': 500}\n",
            "Accuracy of best XGB model is: 0.8846153846153846\n",
            "CPU times: user 1min 23s, sys: 1.18 s, total: 1min 24s\n",
            "Wall time: 1min 24s\n"
          ]
        }
      ]
    },
    {
      "cell_type": "code",
      "source": [
        "#print result of the model\n",
        "test_preds = xgb_pipe_gs.predict(X_test).round() \n",
        "print(classification_report(y_test, test_preds))\n",
        "cf = confusion_matrix(y_test, test_preds)\n",
        "sns.heatmap(cf, annot=True, cmap = 'Blues');"
      ],
      "metadata": {
        "colab": {
          "base_uri": "https://localhost:8080/",
          "height": 421
        },
        "id": "OMDcOB-yaG6q",
        "outputId": "be5ff6e5-3870-4c2b-fb17-211023552631"
      },
      "execution_count": 60,
      "outputs": [
        {
          "output_type": "stream",
          "name": "stdout",
          "text": [
            "              precision    recall  f1-score   support\n",
            "\n",
            "           0       0.93      0.93      0.93       246\n",
            "           1       0.59      0.57      0.58        40\n",
            "\n",
            "    accuracy                           0.88       286\n",
            "   macro avg       0.76      0.75      0.76       286\n",
            "weighted avg       0.88      0.88      0.88       286\n",
            "\n"
          ]
        },
        {
          "output_type": "display_data",
          "data": {
            "text/plain": [
              "<Figure size 432x288 with 2 Axes>"
            ],
            "image/png": "[encoded data removed]"
          },
          "metadata": {
            "needs_background": "light"
          }
        }
      ]
    },
    {
      "cell_type": "code",
      "source": [
        "best_pipe2.fit(X_train, y_train)"
      ],
      "metadata": {
        "colab": {
          "base_uri": "https://localhost:8080/",
          "height": 227
        },
        "id": "7g_T3g5htCUK",
        "outputId": "80134269-295d-475c-c0a0-bef44c07bc7b"
      },
      "execution_count": 61,
      "outputs": [
        {
          "output_type": "execute_result",
          "data": {
            "text/plain": [
              "Pipeline(steps=[('columntransformer',\n",
              "                 ColumnTransformer(remainder='passthrough',\n",
              "                                   transformers=[('pipeline',\n",
              "                                                  Pipeline(steps=[('simpleimputer',\n",
              "                                                                   SimpleImputer()),\n",
              "                                                                  ('standardscaler',\n",
              "                                                                   StandardScaler())]),\n",
              "                                                  <sklearn.compose._column_transformer.make_column_selector object at 0x7f60da237f50>)])),\n",
              "                ('xgbclassifier',\n",
              "                 XGBClassifier(max_depth=4, min_samples_leaf=3,\n",
              "                               n_estimators=500))])"
            ],
            "text/html": [
              "<style>#sk-a6210f14-4462-4288-a480-b5d417c5aece {color: black;background-color: white;}#sk-a6210f14-4462-4288-a480-b5d417c5aece pre{padding: 0;}#sk-a6210f14-4462-4288-a480-b5d417c5aece div.sk-toggleable {background-color: white;}#sk-a6210f14-4462-4288-a480-b5d417c5aece label.sk-toggleable__label {cursor: pointer;display: block;width: 100%;margin-bottom: 0;padding: 0.3em;box-sizing: border-box;text-align: center;}#sk-a6210f14-4462-4288-a480-b5d417c5aece label.sk-toggleable__label-arrow:before {content: \"▸\";float: left;margin-right: 0.25em;color: #696969;}#sk-a6210f14-4462-4288-a480-b5d417c5aece label.sk-toggleable__label-arrow:hover:before {color: black;}#sk-a6210f14-4462-4288-a480-b5d417c5aece div.sk-estimator:hover label.sk-toggleable__label-arrow:before {color: black;}#sk-a6210f14-4462-4288-a480-b5d417c5aece div.sk-toggleable__content {max-height: 0;max-width: 0;overflow: hidden;text-align: left;background-color: #f0f8ff;}#sk-a6210f14-4462-4288-a480-b5d417c5aece div.sk-toggleable__content pre {margin: 0.2em;color: black;border-radius: 0.25em;background-color: #f0f8ff;}#sk-a6210f14-4462-4288-a480-b5d417c5aece input.sk-toggleable__control:checked~div.sk-toggleable__content {max-height: 200px;max-width: 100%;overflow: auto;}#sk-a6210f14-4462-4288-a480-b5d417c5aece input.sk-toggleable__control:checked~label.sk-toggleable__label-arrow:before {content: \"▾\";}#sk-a6210f14-4462-4288-a480-b5d417c5aece div.sk-estimator input.sk-toggleable__control:checked~label.sk-toggleable__label {background-color: #d4ebff;}#sk-a6210f14-4462-4288-a480-b5d417c5aece div.sk-label input.sk-toggleable__control:checked~label.sk-toggleable__label {background-color: #d4ebff;}#sk-a6210f14-4462-4288-a480-b5d417c5aece input.sk-hidden--visually {border: 0;clip: rect(1px 1px 1px 1px);clip: rect(1px, 1px, 1px, 1px);height: 1px;margin: -1px;overflow: hidden;padding: 0;position: absolute;width: 1px;}#sk-a6210f14-4462-4288-a480-b5d417c5aece div.sk-estimator {font-family: monospace;background-color: #f0f8ff;border: 1px dotted black;border-radius: 0.25em;box-sizing: border-box;margin-bottom: 0.5em;}#sk-a6210f14-4462-4288-a480-b5d417c5aece div.sk-estimator:hover {background-color: #d4ebff;}#sk-a6210f14-4462-4288-a480-b5d417c5aece div.sk-parallel-item::after {content: \"\";width: 100%;border-bottom: 1px solid gray;flex-grow: 1;}#sk-a6210f14-4462-4288-a480-b5d417c5aece div.sk-label:hover label.sk-toggleable__label {background-color: #d4ebff;}#sk-a6210f14-4462-4288-a480-b5d417c5aece div.sk-serial::before {content: \"\";position: absolute;border-left: 1px solid gray;box-sizing: border-box;top: 2em;bottom: 0;left: 50%;}#sk-a6210f14-4462-4288-a480-b5d417c5aece div.sk-serial {display: flex;flex-direction: column;align-items: center;background-color: white;padding-right: 0.2em;padding-left: 0.2em;}#sk-a6210f14-4462-4288-a480-b5d417c5aece div.sk-item {z-index: 1;}#sk-a6210f14-4462-4288-a480-b5d417c5aece div.sk-parallel {display: flex;align-items: stretch;justify-content: center;background-color: white;}#sk-a6210f14-4462-4288-a480-b5d417c5aece div.sk-parallel::before {content: \"\";position: absolute;border-left: 1px solid gray;box-sizing: border-box;top: 2em;bottom: 0;left: 50%;}#sk-a6210f14-4462-4288-a480-b5d417c5aece div.sk-parallel-item {display: flex;flex-direction: column;position: relative;background-color: white;}#sk-a6210f14-4462-4288-a480-b5d417c5aece div.sk-parallel-item:first-child::after {align-self: flex-end;width: 50%;}#sk-a6210f14-4462-4288-a480-b5d417c5aece div.sk-parallel-item:last-child::after {align-self: flex-start;width: 50%;}#sk-a6210f14-4462-4288-a480-b5d417c5aece div.sk-parallel-item:only-child::after {width: 0;}#sk-a6210f14-4462-4288-a480-b5d417c5aece div.sk-dashed-wrapped {border: 1px dashed gray;margin: 0 0.4em 0.5em 0.4em;box-sizing: border-box;padding-bottom: 0.4em;background-color: white;position: relative;}#sk-a6210f14-4462-4288-a480-b5d417c5aece div.sk-label label {font-family: monospace;font-weight: bold;background-color: white;display: inline-block;line-height: 1.2em;}#sk-a6210f14-4462-4288-a480-b5d417c5aece div.sk-label-container {position: relative;z-index: 2;text-align: center;}#sk-a6210f14-4462-4288-a480-b5d417c5aece div.sk-container {/* jupyter's `normalize.less` sets `[hidden] { display: none; }` but bootstrap.min.css set `[hidden] { display: none !important; }` so we also need the `!important` here to be able to override the default hidden behavior on the sphinx rendered scikit-learn.org. See: https://github.com/scikit-learn/scikit-learn/issues/21755 */display: inline-block !important;position: relative;}#sk-a6210f14-4462-4288-a480-b5d417c5aece div.sk-text-repr-fallback {display: none;}</style><div id=\"sk-a6210f14-4462-4288-a480-b5d417c5aece\" class=\"sk-top-container\"><div class=\"sk-text-repr-fallback\"><pre>Pipeline(steps=[(&#x27;columntransformer&#x27;,\n",
              "                 ColumnTransformer(remainder=&#x27;passthrough&#x27;,\n",
              "                                   transformers=[(&#x27;pipeline&#x27;,\n",
              "                                                  Pipeline(steps=[(&#x27;simpleimputer&#x27;,\n",
              "                                                                   SimpleImputer()),\n",
              "                                                                  (&#x27;standardscaler&#x27;,\n",
              "                                                                   StandardScaler())]),\n",
              "                                                  &lt;sklearn.compose._column_transformer.make_column_selector object at 0x7f60da237f50&gt;)])),\n",
              "                (&#x27;xgbclassifier&#x27;,\n",
              "                 XGBClassifier(max_depth=4, min_samples_leaf=3,\n",
              "                               n_estimators=500))])</pre><b>Please rerun this cell to show the HTML repr or trust the notebook.</b></div><div class=\"sk-container\" hidden><div class=\"sk-item sk-dashed-wrapped\"><div class=\"sk-label-container\"><div class=\"sk-label sk-toggleable\"><input class=\"sk-toggleable__control sk-hidden--visually\" id=\"7c204239-ae1f-4b77-bdf8-1dcccf9c6538\" type=\"checkbox\" ><label for=\"7c204239-ae1f-4b77-bdf8-1dcccf9c6538\" class=\"sk-toggleable__label sk-toggleable__label-arrow\">Pipeline</label><div class=\"sk-toggleable__content\"><pre>Pipeline(steps=[(&#x27;columntransformer&#x27;,\n",
              "                 ColumnTransformer(remainder=&#x27;passthrough&#x27;,\n",
              "                                   transformers=[(&#x27;pipeline&#x27;,\n",
              "                                                  Pipeline(steps=[(&#x27;simpleimputer&#x27;,\n",
              "                                                                   SimpleImputer()),\n",
              "                                                                  (&#x27;standardscaler&#x27;,\n",
              "                                                                   StandardScaler())]),\n",
              "                                                  &lt;sklearn.compose._column_transformer.make_column_selector object at 0x7f60da237f50&gt;)])),\n",
              "                (&#x27;xgbclassifier&#x27;,\n",
              "                 XGBClassifier(max_depth=4, min_samples_leaf=3,\n",
              "                               n_estimators=500))])</pre></div></div></div><div class=\"sk-serial\"><div class=\"sk-item sk-dashed-wrapped\"><div class=\"sk-label-container\"><div class=\"sk-label sk-toggleable\"><input class=\"sk-toggleable__control sk-hidden--visually\" id=\"6a0593cf-4ce4-492e-a0a9-838c4e891415\" type=\"checkbox\" ><label for=\"6a0593cf-4ce4-492e-a0a9-838c4e891415\" class=\"sk-toggleable__label sk-toggleable__label-arrow\">columntransformer: ColumnTransformer</label><div class=\"sk-toggleable__content\"><pre>ColumnTransformer(remainder=&#x27;passthrough&#x27;,\n",
              "                  transformers=[(&#x27;pipeline&#x27;,\n",
              "                                 Pipeline(steps=[(&#x27;simpleimputer&#x27;,\n",
              "                                                  SimpleImputer()),\n",
              "                                                 (&#x27;standardscaler&#x27;,\n",
              "                                                  StandardScaler())]),\n",
              "                                 &lt;sklearn.compose._column_transformer.make_column_selector object at 0x7f60da237f50&gt;)])</pre></div></div></div><div class=\"sk-parallel\"><div class=\"sk-parallel-item\"><div class=\"sk-item\"><div class=\"sk-label-container\"><div class=\"sk-label sk-toggleable\"><input class=\"sk-toggleable__control sk-hidden--visually\" id=\"6dc1f624-1adb-48e7-a60d-c1c160c79771\" type=\"checkbox\" ><label for=\"6dc1f624-1adb-48e7-a60d-c1c160c79771\" class=\"sk-toggleable__label sk-toggleable__label-arrow\">pipeline</label><div class=\"sk-toggleable__content\"><pre>&lt;sklearn.compose._column_transformer.make_column_selector object at 0x7f60da237f50&gt;</pre></div></div></div><div class=\"sk-serial\"><div class=\"sk-item\"><div class=\"sk-serial\"><div class=\"sk-item\"><div class=\"sk-estimator sk-toggleable\"><input class=\"sk-toggleable__control sk-hidden--visually\" id=\"07932fca-c3ab-4b20-9002-5479e59ed574\" type=\"checkbox\" ><label for=\"07932fca-c3ab-4b20-9002-5479e59ed574\" class=\"sk-toggleable__label sk-toggleable__label-arrow\">SimpleImputer</label><div class=\"sk-toggleable__content\"><pre>SimpleImputer()</pre></div></div></div><div class=\"sk-item\"><div class=\"sk-estimator sk-toggleable\"><input class=\"sk-toggleable__control sk-hidden--visually\" id=\"fd3195f1-f2c8-42c7-b811-1056c2c0b74e\" type=\"checkbox\" ><label for=\"fd3195f1-f2c8-42c7-b811-1056c2c0b74e\" class=\"sk-toggleable__label sk-toggleable__label-arrow\">StandardScaler</label><div class=\"sk-toggleable__content\"><pre>StandardScaler()</pre></div></div></div></div></div></div></div></div><div class=\"sk-parallel-item\"><div class=\"sk-item\"><div class=\"sk-label-container\"><div class=\"sk-label sk-toggleable\"><input class=\"sk-toggleable__control sk-hidden--visually\" id=\"f426ba2e-4530-4420-a925-3da465f49a7d\" type=\"checkbox\" ><label for=\"f426ba2e-4530-4420-a925-3da465f49a7d\" class=\"sk-toggleable__label sk-toggleable__label-arrow\">remainder</label><div class=\"sk-toggleable__content\"><pre>[]</pre></div></div></div><div class=\"sk-serial\"><div class=\"sk-item\"><div class=\"sk-estimator sk-toggleable\"><input class=\"sk-toggleable__control sk-hidden--visually\" id=\"7b60cfd2-0241-4d8a-ac90-b93b01ca1d32\" type=\"checkbox\" ><label for=\"7b60cfd2-0241-4d8a-ac90-b93b01ca1d32\" class=\"sk-toggleable__label sk-toggleable__label-arrow\">passthrough</label><div class=\"sk-toggleable__content\"><pre>passthrough</pre></div></div></div></div></div></div></div></div><div class=\"sk-item\"><div class=\"sk-estimator sk-toggleable\"><input class=\"sk-toggleable__control sk-hidden--visually\" id=\"9bcc858e-4a53-4a26-abbd-859555663561\" type=\"checkbox\" ><label for=\"9bcc858e-4a53-4a26-abbd-859555663561\" class=\"sk-toggleable__label sk-toggleable__label-arrow\">XGBClassifier</label><div class=\"sk-toggleable__content\"><pre>XGBClassifier(max_depth=4, min_samples_leaf=3, n_estimators=500)</pre></div></div></div></div></div></div></div>"
            ]
          },
          "metadata": {},
          "execution_count": 61
        }
      ]
    },
    {
      "cell_type": "code",
      "source": [
        "train_xgb_preds = best_pipe2.predict(X_train)\n",
        "test_xgb_preds = best_pipe2.predict(X_test)\n",
        "\n",
        "best_pipe2.predict(X_test)"
      ],
      "metadata": {
        "colab": {
          "base_uri": "https://localhost:8080/"
        },
        "id": "02UHOAJztkTo",
        "outputId": "98d132f9-9440-481b-b13e-05bd8f89de6a"
      },
      "execution_count": 62,
      "outputs": [
        {
          "output_type": "execute_result",
          "data": {
            "text/plain": [
              "array([0, 0, 0, 0, 1, 0, 0, 1, 0, 1, 0, 0, 1, 0, 0, 1, 0, 0, 1, 0, 0, 1,\n",
              "       0, 0, 0, 0, 0, 1, 0, 1, 0, 0, 0, 1, 1, 0, 0, 0, 0, 1, 1, 0, 0, 0,\n",
              "       1, 0, 0, 0, 0, 0, 0, 0, 0, 0, 0, 0, 0, 0, 0, 0, 0, 0, 0, 0, 0, 0,\n",
              "       1, 0, 0, 0, 0, 0, 0, 0, 0, 0, 1, 0, 0, 0, 0, 0, 0, 0, 0, 0, 0, 0,\n",
              "       0, 0, 0, 0, 0, 0, 0, 0, 1, 0, 0, 0, 0, 0, 0, 0, 0, 0, 0, 0, 0, 1,\n",
              "       1, 0, 0, 0, 1, 0, 0, 0, 0, 0, 0, 0, 0, 0, 1, 0, 0, 0, 0, 0, 0, 0,\n",
              "       0, 0, 1, 1, 0, 0, 0, 0, 0, 0, 0, 0, 0, 0, 0, 0, 0, 0, 0, 0, 0, 0,\n",
              "       1, 0, 1, 0, 0, 0, 0, 0, 0, 0, 0, 0, 1, 0, 0, 0, 0, 0, 0, 0, 0, 0,\n",
              "       0, 0, 0, 0, 0, 0, 0, 0, 0, 1, 0, 0, 0, 0, 0, 0, 0, 0, 0, 0, 0, 1,\n",
              "       1, 0, 0, 0, 0, 0, 0, 0, 0, 0, 0, 0, 0, 0, 0, 1, 0, 0, 1, 0, 0, 1,\n",
              "       0, 0, 0, 0, 0, 0, 0, 0, 0, 0, 0, 0, 0, 0, 0, 0, 0, 0, 0, 0, 0, 0,\n",
              "       0, 0, 0, 0, 0, 0, 0, 1, 0, 1, 0, 0, 0, 0, 0, 0, 0, 0, 0, 1, 0, 0,\n",
              "       0, 1, 0, 0, 0, 0, 0, 0, 0, 1, 0, 1, 0, 0, 0, 0, 0, 0, 0, 0, 1, 0])"
            ]
          },
          "metadata": {},
          "execution_count": 62
        }
      ]
    },
    {
      "cell_type": "code",
      "source": [
        "#With PCA\n",
        "xgb_pca_param_grid = {\n",
        "    'xgbclassifier__max_depth': (2, 4, 8),\n",
        "    'xgbclassifier__n_estimators': (200, 500, 1000),\n",
        "    'xgbclassifier__min_samples_leaf': [3, 10,15],\n",
        "    'xgbclassifier__booster': ('gbtree', 'gblinear')   \n",
        "}"
      ],
      "metadata": {
        "id": "iTTEUH2A15wx"
      },
      "execution_count": 63,
      "outputs": []
    },
    {
      "cell_type": "code",
      "source": [
        "xgb_pipe_pca = GridSearchCV(xgb_pipe, xgb_pca_param_grid)"
      ],
      "metadata": {
        "id": "-_38pHuF15wz"
      },
      "execution_count": 64,
      "outputs": []
    },
    {
      "cell_type": "code",
      "source": [
        "%%time\n",
        "xgb_pipe_pca.fit(X_train, y_train)\n",
        "print('Best RF Parameters:')\n",
        "print(xgb_pipe_pca.best_params_)\n",
        "best_pipe_pca2 = xgb_pipe_pca.best_estimator_\n",
        "print(f'R^2 of best RF model is: {best_pipe_pca2.score(X_test, y_test)}')"
      ],
      "metadata": {
        "colab": {
          "base_uri": "https://localhost:8080/"
        },
        "outputId": "14de1bcf-a19a-4bab-8268-ea62886e0b74",
        "id": "zZpjotqJ15w0"
      },
      "execution_count": 65,
      "outputs": [
        {
          "output_type": "stream",
          "name": "stdout",
          "text": [
            "Best RF Parameters:\n",
            "{'xgbclassifier__booster': 'gbtree', 'xgbclassifier__max_depth': 4, 'xgbclassifier__min_samples_leaf': 3, 'xgbclassifier__n_estimators': 500}\n",
            "R^2 of best RF model is: 0.8846153846153846\n",
            "CPU times: user 1min 25s, sys: 1.2 s, total: 1min 26s\n",
            "Wall time: 1min 25s\n"
          ]
        }
      ]
    },
    {
      "cell_type": "code",
      "source": [
        "#print result of the model\n",
        "test_preds = xgb_pipe_pca.predict(X_test).round() \n",
        "print(classification_report(y_test, test_preds))\n",
        "cf = confusion_matrix(y_test, test_preds)\n",
        "sns.heatmap(cf, annot=True, cmap = 'Blues');"
      ],
      "metadata": {
        "colab": {
          "base_uri": "https://localhost:8080/",
          "height": 421
        },
        "id": "PkqDCxZHaoRQ",
        "outputId": "bc05e925-ef13-4126-af20-a0b4c05c3f55"
      },
      "execution_count": 66,
      "outputs": [
        {
          "output_type": "stream",
          "name": "stdout",
          "text": [
            "              precision    recall  f1-score   support\n",
            "\n",
            "           0       0.93      0.93      0.93       246\n",
            "           1       0.59      0.57      0.58        40\n",
            "\n",
            "    accuracy                           0.88       286\n",
            "   macro avg       0.76      0.75      0.76       286\n",
            "weighted avg       0.88      0.88      0.88       286\n",
            "\n"
          ]
        },
        {
          "output_type": "display_data",
          "data": {
            "text/plain": [
              "<Figure size 432x288 with 2 Axes>"
            ],
            "image/png": "[encoded data removed]"
          },
          "metadata": {
            "needs_background": "light"
          }
        }
      ]
    },
    {
      "cell_type": "code",
      "source": [
        "best_pipe_pca2.fit(X_train, y_train)"
      ],
      "metadata": {
        "colab": {
          "base_uri": "https://localhost:8080/",
          "height": 227
        },
        "id": "l6usz6Xr21Ot",
        "outputId": "f559ef48-0257-4c17-9a95-7f46f8755f86"
      },
      "execution_count": 67,
      "outputs": [
        {
          "output_type": "execute_result",
          "data": {
            "text/plain": [
              "Pipeline(steps=[('columntransformer',\n",
              "                 ColumnTransformer(remainder='passthrough',\n",
              "                                   transformers=[('pipeline',\n",
              "                                                  Pipeline(steps=[('simpleimputer',\n",
              "                                                                   SimpleImputer()),\n",
              "                                                                  ('standardscaler',\n",
              "                                                                   StandardScaler())]),\n",
              "                                                  <sklearn.compose._column_transformer.make_column_selector object at 0x7f60da8d9710>)])),\n",
              "                ('xgbclassifier',\n",
              "                 XGBClassifier(max_depth=4, min_samples_leaf=3,\n",
              "                               n_estimators=500))])"
            ],
            "text/html": [
              "<style>#sk-4ae220f3-5848-4eeb-82b5-bde09d9fccb7 {color: black;background-color: white;}#sk-4ae220f3-5848-4eeb-82b5-bde09d9fccb7 pre{padding: 0;}#sk-4ae220f3-5848-4eeb-82b5-bde09d9fccb7 div.sk-toggleable {background-color: white;}#sk-4ae220f3-5848-4eeb-82b5-bde09d9fccb7 label.sk-toggleable__label {cursor: pointer;display: block;width: 100%;margin-bottom: 0;padding: 0.3em;box-sizing: border-box;text-align: center;}#sk-4ae220f3-5848-4eeb-82b5-bde09d9fccb7 label.sk-toggleable__label-arrow:before {content: \"▸\";float: left;margin-right: 0.25em;color: #696969;}#sk-4ae220f3-5848-4eeb-82b5-bde09d9fccb7 label.sk-toggleable__label-arrow:hover:before {color: black;}#sk-4ae220f3-5848-4eeb-82b5-bde09d9fccb7 div.sk-estimator:hover label.sk-toggleable__label-arrow:before {color: black;}#sk-4ae220f3-5848-4eeb-82b5-bde09d9fccb7 div.sk-toggleable__content {max-height: 0;max-width: 0;overflow: hidden;text-align: left;background-color: #f0f8ff;}#sk-4ae220f3-5848-4eeb-82b5-bde09d9fccb7 div.sk-toggleable__content pre {margin: 0.2em;color: black;border-radius: 0.25em;background-color: #f0f8ff;}#sk-4ae220f3-5848-4eeb-82b5-bde09d9fccb7 input.sk-toggleable__control:checked~div.sk-toggleable__content {max-height: 200px;max-width: 100%;overflow: auto;}#sk-4ae220f3-5848-4eeb-82b5-bde09d9fccb7 input.sk-toggleable__control:checked~label.sk-toggleable__label-arrow:before {content: \"▾\";}#sk-4ae220f3-5848-4eeb-82b5-bde09d9fccb7 div.sk-estimator input.sk-toggleable__control:checked~label.sk-toggleable__label {background-color: #d4ebff;}#sk-4ae220f3-5848-4eeb-82b5-bde09d9fccb7 div.sk-label input.sk-toggleable__control:checked~label.sk-toggleable__label {background-color: #d4ebff;}#sk-4ae220f3-5848-4eeb-82b5-bde09d9fccb7 input.sk-hidden--visually {border: 0;clip: rect(1px 1px 1px 1px);clip: rect(1px, 1px, 1px, 1px);height: 1px;margin: -1px;overflow: hidden;padding: 0;position: absolute;width: 1px;}#sk-4ae220f3-5848-4eeb-82b5-bde09d9fccb7 div.sk-estimator {font-family: monospace;background-color: #f0f8ff;border: 1px dotted black;border-radius: 0.25em;box-sizing: border-box;margin-bottom: 0.5em;}#sk-4ae220f3-5848-4eeb-82b5-bde09d9fccb7 div.sk-estimator:hover {background-color: #d4ebff;}#sk-4ae220f3-5848-4eeb-82b5-bde09d9fccb7 div.sk-parallel-item::after {content: \"\";width: 100%;border-bottom: 1px solid gray;flex-grow: 1;}#sk-4ae220f3-5848-4eeb-82b5-bde09d9fccb7 div.sk-label:hover label.sk-toggleable__label {background-color: #d4ebff;}#sk-4ae220f3-5848-4eeb-82b5-bde09d9fccb7 div.sk-serial::before {content: \"\";position: absolute;border-left: 1px solid gray;box-sizing: border-box;top: 2em;bottom: 0;left: 50%;}#sk-4ae220f3-5848-4eeb-82b5-bde09d9fccb7 div.sk-serial {display: flex;flex-direction: column;align-items: center;background-color: white;padding-right: 0.2em;padding-left: 0.2em;}#sk-4ae220f3-5848-4eeb-82b5-bde09d9fccb7 div.sk-item {z-index: 1;}#sk-4ae220f3-5848-4eeb-82b5-bde09d9fccb7 div.sk-parallel {display: flex;align-items: stretch;justify-content: center;background-color: white;}#sk-4ae220f3-5848-4eeb-82b5-bde09d9fccb7 div.sk-parallel::before {content: \"\";position: absolute;border-left: 1px solid gray;box-sizing: border-box;top: 2em;bottom: 0;left: 50%;}#sk-4ae220f3-5848-4eeb-82b5-bde09d9fccb7 div.sk-parallel-item {display: flex;flex-direction: column;position: relative;background-color: white;}#sk-4ae220f3-5848-4eeb-82b5-bde09d9fccb7 div.sk-parallel-item:first-child::after {align-self: flex-end;width: 50%;}#sk-4ae220f3-5848-4eeb-82b5-bde09d9fccb7 div.sk-parallel-item:last-child::after {align-self: flex-start;width: 50%;}#sk-4ae220f3-5848-4eeb-82b5-bde09d9fccb7 div.sk-parallel-item:only-child::after {width: 0;}#sk-4ae220f3-5848-4eeb-82b5-bde09d9fccb7 div.sk-dashed-wrapped {border: 1px dashed gray;margin: 0 0.4em 0.5em 0.4em;box-sizing: border-box;padding-bottom: 0.4em;background-color: white;position: relative;}#sk-4ae220f3-5848-4eeb-82b5-bde09d9fccb7 div.sk-label label {font-family: monospace;font-weight: bold;background-color: white;display: inline-block;line-height: 1.2em;}#sk-4ae220f3-5848-4eeb-82b5-bde09d9fccb7 div.sk-label-container {position: relative;z-index: 2;text-align: center;}#sk-4ae220f3-5848-4eeb-82b5-bde09d9fccb7 div.sk-container {/* jupyter's `normalize.less` sets `[hidden] { display: none; }` but bootstrap.min.css set `[hidden] { display: none !important; }` so we also need the `!important` here to be able to override the default hidden behavior on the sphinx rendered scikit-learn.org. See: https://github.com/scikit-learn/scikit-learn/issues/21755 */display: inline-block !important;position: relative;}#sk-4ae220f3-5848-4eeb-82b5-bde09d9fccb7 div.sk-text-repr-fallback {display: none;}</style><div id=\"sk-4ae220f3-5848-4eeb-82b5-bde09d9fccb7\" class=\"sk-top-container\"><div class=\"sk-text-repr-fallback\"><pre>Pipeline(steps=[(&#x27;columntransformer&#x27;,\n",
              "                 ColumnTransformer(remainder=&#x27;passthrough&#x27;,\n",
              "                                   transformers=[(&#x27;pipeline&#x27;,\n",
              "                                                  Pipeline(steps=[(&#x27;simpleimputer&#x27;,\n",
              "                                                                   SimpleImputer()),\n",
              "                                                                  (&#x27;standardscaler&#x27;,\n",
              "                                                                   StandardScaler())]),\n",
              "                                                  &lt;sklearn.compose._column_transformer.make_column_selector object at 0x7f60da8d9710&gt;)])),\n",
              "                (&#x27;xgbclassifier&#x27;,\n",
              "                 XGBClassifier(max_depth=4, min_samples_leaf=3,\n",
              "                               n_estimators=500))])</pre><b>Please rerun this cell to show the HTML repr or trust the notebook.</b></div><div class=\"sk-container\" hidden><div class=\"sk-item sk-dashed-wrapped\"><div class=\"sk-label-container\"><div class=\"sk-label sk-toggleable\"><input class=\"sk-toggleable__control sk-hidden--visually\" id=\"99380893-dd34-4c9e-b616-5019e75117da\" type=\"checkbox\" ><label for=\"99380893-dd34-4c9e-b616-5019e75117da\" class=\"sk-toggleable__label sk-toggleable__label-arrow\">Pipeline</label><div class=\"sk-toggleable__content\"><pre>Pipeline(steps=[(&#x27;columntransformer&#x27;,\n",
              "                 ColumnTransformer(remainder=&#x27;passthrough&#x27;,\n",
              "                                   transformers=[(&#x27;pipeline&#x27;,\n",
              "                                                  Pipeline(steps=[(&#x27;simpleimputer&#x27;,\n",
              "                                                                   SimpleImputer()),\n",
              "                                                                  (&#x27;standardscaler&#x27;,\n",
              "                                                                   StandardScaler())]),\n",
              "                                                  &lt;sklearn.compose._column_transformer.make_column_selector object at 0x7f60da8d9710&gt;)])),\n",
              "                (&#x27;xgbclassifier&#x27;,\n",
              "                 XGBClassifier(max_depth=4, min_samples_leaf=3,\n",
              "                               n_estimators=500))])</pre></div></div></div><div class=\"sk-serial\"><div class=\"sk-item sk-dashed-wrapped\"><div class=\"sk-label-container\"><div class=\"sk-label sk-toggleable\"><input class=\"sk-toggleable__control sk-hidden--visually\" id=\"d249ac83-bbdb-45ea-bd16-da9b30c95e79\" type=\"checkbox\" ><label for=\"d249ac83-bbdb-45ea-bd16-da9b30c95e79\" class=\"sk-toggleable__label sk-toggleable__label-arrow\">columntransformer: ColumnTransformer</label><div class=\"sk-toggleable__content\"><pre>ColumnTransformer(remainder=&#x27;passthrough&#x27;,\n",
              "                  transformers=[(&#x27;pipeline&#x27;,\n",
              "                                 Pipeline(steps=[(&#x27;simpleimputer&#x27;,\n",
              "                                                  SimpleImputer()),\n",
              "                                                 (&#x27;standardscaler&#x27;,\n",
              "                                                  StandardScaler())]),\n",
              "                                 &lt;sklearn.compose._column_transformer.make_column_selector object at 0x7f60da8d9710&gt;)])</pre></div></div></div><div class=\"sk-parallel\"><div class=\"sk-parallel-item\"><div class=\"sk-item\"><div class=\"sk-label-container\"><div class=\"sk-label sk-toggleable\"><input class=\"sk-toggleable__control sk-hidden--visually\" id=\"3ce3d948-76d3-4c89-93bb-8d103c535c06\" type=\"checkbox\" ><label for=\"3ce3d948-76d3-4c89-93bb-8d103c535c06\" class=\"sk-toggleable__label sk-toggleable__label-arrow\">pipeline</label><div class=\"sk-toggleable__content\"><pre>&lt;sklearn.compose._column_transformer.make_column_selector object at 0x7f60da8d9710&gt;</pre></div></div></div><div class=\"sk-serial\"><div class=\"sk-item\"><div class=\"sk-serial\"><div class=\"sk-item\"><div class=\"sk-estimator sk-toggleable\"><input class=\"sk-toggleable__control sk-hidden--visually\" id=\"38677167-00cc-4b31-aa22-4671f4b54663\" type=\"checkbox\" ><label for=\"38677167-00cc-4b31-aa22-4671f4b54663\" class=\"sk-toggleable__label sk-toggleable__label-arrow\">SimpleImputer</label><div class=\"sk-toggleable__content\"><pre>SimpleImputer()</pre></div></div></div><div class=\"sk-item\"><div class=\"sk-estimator sk-toggleable\"><input class=\"sk-toggleable__control sk-hidden--visually\" id=\"8b81c075-db7d-4c68-a5dc-6d4c4d98008f\" type=\"checkbox\" ><label for=\"8b81c075-db7d-4c68-a5dc-6d4c4d98008f\" class=\"sk-toggleable__label sk-toggleable__label-arrow\">StandardScaler</label><div class=\"sk-toggleable__content\"><pre>StandardScaler()</pre></div></div></div></div></div></div></div></div><div class=\"sk-parallel-item\"><div class=\"sk-item\"><div class=\"sk-label-container\"><div class=\"sk-label sk-toggleable\"><input class=\"sk-toggleable__control sk-hidden--visually\" id=\"ed36b961-18b1-487b-a4d4-2526333eb2ff\" type=\"checkbox\" ><label for=\"ed36b961-18b1-487b-a4d4-2526333eb2ff\" class=\"sk-toggleable__label sk-toggleable__label-arrow\">remainder</label><div class=\"sk-toggleable__content\"><pre>[]</pre></div></div></div><div class=\"sk-serial\"><div class=\"sk-item\"><div class=\"sk-estimator sk-toggleable\"><input class=\"sk-toggleable__control sk-hidden--visually\" id=\"b6f9c27f-0e83-4c19-9e96-09e0ac749a8c\" type=\"checkbox\" ><label for=\"b6f9c27f-0e83-4c19-9e96-09e0ac749a8c\" class=\"sk-toggleable__label sk-toggleable__label-arrow\">passthrough</label><div class=\"sk-toggleable__content\"><pre>passthrough</pre></div></div></div></div></div></div></div></div><div class=\"sk-item\"><div class=\"sk-estimator sk-toggleable\"><input class=\"sk-toggleable__control sk-hidden--visually\" id=\"512ca1b6-9f1c-4f5f-ae1e-d33465f08f7f\" type=\"checkbox\" ><label for=\"512ca1b6-9f1c-4f5f-ae1e-d33465f08f7f\" class=\"sk-toggleable__label sk-toggleable__label-arrow\">XGBClassifier</label><div class=\"sk-toggleable__content\"><pre>XGBClassifier(max_depth=4, min_samples_leaf=3, n_estimators=500)</pre></div></div></div></div></div></div></div>"
            ]
          },
          "metadata": {},
          "execution_count": 67
        }
      ]
    },
    {
      "cell_type": "code",
      "source": [
        "train_xgb_preds = best_pipe_pca2.predict(X_train)\n",
        "test_xgb_preds = best_pipe_pca2.predict(X_test)\n",
        "\n",
        "best_pipe_pca2.predict(X_test)"
      ],
      "metadata": {
        "colab": {
          "base_uri": "https://localhost:8080/"
        },
        "id": "72mdodHm27o2",
        "outputId": "25408fd8-4b11-41f1-8a02-79708d30d1ee"
      },
      "execution_count": 68,
      "outputs": [
        {
          "output_type": "execute_result",
          "data": {
            "text/plain": [
              "array([0, 0, 0, 0, 1, 0, 0, 1, 0, 1, 0, 0, 1, 0, 0, 1, 0, 0, 1, 0, 0, 1,\n",
              "       0, 0, 0, 0, 0, 1, 0, 1, 0, 0, 0, 1, 1, 0, 0, 0, 0, 1, 1, 0, 0, 0,\n",
              "       1, 0, 0, 0, 0, 0, 0, 0, 0, 0, 0, 0, 0, 0, 0, 0, 0, 0, 0, 0, 0, 0,\n",
              "       1, 0, 0, 0, 0, 0, 0, 0, 0, 0, 1, 0, 0, 0, 0, 0, 0, 0, 0, 0, 0, 0,\n",
              "       0, 0, 0, 0, 0, 0, 0, 0, 1, 0, 0, 0, 0, 0, 0, 0, 0, 0, 0, 0, 0, 1,\n",
              "       1, 0, 0, 0, 1, 0, 0, 0, 0, 0, 0, 0, 0, 0, 1, 0, 0, 0, 0, 0, 0, 0,\n",
              "       0, 0, 1, 1, 0, 0, 0, 0, 0, 0, 0, 0, 0, 0, 0, 0, 0, 0, 0, 0, 0, 0,\n",
              "       1, 0, 1, 0, 0, 0, 0, 0, 0, 0, 0, 0, 1, 0, 0, 0, 0, 0, 0, 0, 0, 0,\n",
              "       0, 0, 0, 0, 0, 0, 0, 0, 0, 1, 0, 0, 0, 0, 0, 0, 0, 0, 0, 0, 0, 1,\n",
              "       1, 0, 0, 0, 0, 0, 0, 0, 0, 0, 0, 0, 0, 0, 0, 1, 0, 0, 1, 0, 0, 1,\n",
              "       0, 0, 0, 0, 0, 0, 0, 0, 0, 0, 0, 0, 0, 0, 0, 0, 0, 0, 0, 0, 0, 0,\n",
              "       0, 0, 0, 0, 0, 0, 0, 1, 0, 1, 0, 0, 0, 0, 0, 0, 0, 0, 0, 1, 0, 0,\n",
              "       0, 1, 0, 0, 0, 0, 0, 0, 0, 1, 0, 1, 0, 0, 0, 0, 0, 0, 0, 0, 1, 0])"
            ]
          },
          "metadata": {},
          "execution_count": 68
        }
      ]
    },
    {
      "cell_type": "code",
      "source": [
        "%%time\n",
        "xgb_pipe_pca.fit(X_train, y_train)\n",
        "print('Best RF Parameters:')\n",
        "print(xgb_pipe_pca.best_params_)\n",
        "best_pipe_pca2 = xgb_pipe_pca.best_estimator_\n",
        "print(f'R^2 of best RF model is: {best_pipe_pca2.score(X_test, y_test)}')"
      ],
      "metadata": {
        "colab": {
          "base_uri": "https://localhost:8080/"
        },
        "id": "k1Z18nEda1ID",
        "outputId": "89fb4044-7cd3-4923-ef94-e0694e75a229"
      },
      "execution_count": 69,
      "outputs": [
        {
          "output_type": "stream",
          "name": "stdout",
          "text": [
            "Best RF Parameters:\n",
            "{'xgbclassifier__booster': 'gbtree', 'xgbclassifier__max_depth': 4, 'xgbclassifier__min_samples_leaf': 3, 'xgbclassifier__n_estimators': 500}\n",
            "R^2 of best RF model is: 0.8846153846153846\n",
            "CPU times: user 1min 22s, sys: 1.14 s, total: 1min 23s\n",
            "Wall time: 1min 21s\n"
          ]
        }
      ]
    },
    {
      "cell_type": "code",
      "source": [
        "#print result of the model\n",
        "test_preds = xgb_pipe_pca.predict(X_test).round() \n",
        "print(classification_report(y_test, test_preds))\n",
        "cf = confusion_matrix(y_test, test_preds)\n",
        "sns.heatmap(cf, annot=True, cmap = 'Blues');"
      ],
      "metadata": {
        "colab": {
          "base_uri": "https://localhost:8080/",
          "height": 421
        },
        "id": "qAiH561-bxog",
        "outputId": "0b30ef0f-5e22-4de6-bcab-e83f283302c8"
      },
      "execution_count": 70,
      "outputs": [
        {
          "output_type": "stream",
          "name": "stdout",
          "text": [
            "              precision    recall  f1-score   support\n",
            "\n",
            "           0       0.93      0.93      0.93       246\n",
            "           1       0.59      0.57      0.58        40\n",
            "\n",
            "    accuracy                           0.88       286\n",
            "   macro avg       0.76      0.75      0.76       286\n",
            "weighted avg       0.88      0.88      0.88       286\n",
            "\n"
          ]
        },
        {
          "output_type": "display_data",
          "data": {
            "text/plain": [
              "<Figure size 432x288 with 2 Axes>"
            ],
            "image/png": "[encoded data removed]"
          },
          "metadata": {
            "needs_background": "light"
          }
        }
      ]
    },
    {
      "cell_type": "markdown",
      "source": [
        "Neural Networks"
      ],
      "metadata": {
        "id": "f4q9S5N833pX"
      }
    },
    {
      "cell_type": "code",
      "source": [
        "from sklearn.metrics import accuracy_score, confusion_matrix, plot_confusion_matrix, classification_report\n",
        "from tensorflow.keras.models import Sequential\n",
        "from tensorflow.keras.layers import Dense, Dropout\n",
        "from tensorflow.keras.callbacks import EarlyStopping"
      ],
      "metadata": {
        "id": "rWTkV5Ga4EVn"
      },
      "execution_count": 71,
      "outputs": []
    },
    {
      "cell_type": "code",
      "source": [
        "#Check shape of X_train\n",
        "input_shape = X_train.shape[1]\n",
        "input_shape"
      ],
      "metadata": {
        "colab": {
          "base_uri": "https://localhost:8080/"
        },
        "id": "in42kjYO4ssn",
        "outputId": "4f177769-ef14-4ef0-c297-2ef2827d9a74"
      },
      "execution_count": 72,
      "outputs": [
        {
          "output_type": "execute_result",
          "data": {
            "text/plain": [
              "11"
            ]
          },
          "metadata": {},
          "execution_count": 72
        }
      ]
    },
    {
      "cell_type": "code",
      "source": [
        "#Instantiate model\n",
        "model = Sequential()"
      ],
      "metadata": {
        "id": "0yuYI64y3ZH1"
      },
      "execution_count": 73,
      "outputs": []
    },
    {
      "cell_type": "code",
      "source": [
        "#Creating an input Layer with 3 hidden layers\n",
        "model.add(Dense(12, input_dim = input_shape, activation = 'relu')) \n",
        "model.add(Dropout(.2))\n",
        "model.add(Dense(8, activation = 'relu'))\n",
        "model.add(Dropout(.2))\n",
        "model.add(Dense(6, activation = 'relu'))\n",
        "model.add(Dropout(.2))\n",
        "model.add(Dense(3, activation = 'relu'))\n",
        "model.add(Dropout(.2))\n",
        "#output layer\n",
        "model.add(Dense(1, activation = 'sigmoid'))"
      ],
      "metadata": {
        "id": "C7b9yeQg4NVS"
      },
      "execution_count": 74,
      "outputs": []
    },
    {
      "cell_type": "code",
      "source": [
        "model.compile(loss = 'bce', optimizer = 'adam', metrics='accuracy')"
      ],
      "metadata": {
        "id": "mpCHGzU_5iW3"
      },
      "execution_count": 75,
      "outputs": []
    },
    {
      "cell_type": "code",
      "source": [
        "#Fitting our model\n",
        "history = model.fit(X_train, y_train, validation_data = (X_test, y_test), epochs=30)"
      ],
      "metadata": {
        "colab": {
          "base_uri": "https://localhost:8080/"
        },
        "id": "M093THaN5yCt",
        "outputId": "0f324b77-c27f-49b7-e9a9-de1f1e9104df"
      },
      "execution_count": 76,
      "outputs": [
        {
          "output_type": "stream",
          "name": "stdout",
          "text": [
            "Epoch 1/30\n",
            "27/27 [==============================] - 2s 12ms/step - loss: 1.6623 - accuracy: 0.5578 - val_loss: 0.5808 - val_accuracy: 0.8601\n",
            "Epoch 2/30\n",
            "27/27 [==============================] - 0s 3ms/step - loss: 0.8612 - accuracy: 0.7025 - val_loss: 0.4714 - val_accuracy: 0.8601\n",
            "Epoch 3/30\n",
            "27/27 [==============================] - 0s 3ms/step - loss: 0.7006 - accuracy: 0.7468 - val_loss: 0.4716 - val_accuracy: 0.8601\n",
            "Epoch 4/30\n",
            "27/27 [==============================] - 0s 4ms/step - loss: 0.6279 - accuracy: 0.7865 - val_loss: 0.4672 - val_accuracy: 0.8601\n",
            "Epoch 5/30\n",
            "27/27 [==============================] - 0s 4ms/step - loss: 0.6234 - accuracy: 0.8016 - val_loss: 0.4638 - val_accuracy: 0.8601\n",
            "Epoch 6/30\n",
            "27/27 [==============================] - 0s 4ms/step - loss: 0.6028 - accuracy: 0.8098 - val_loss: 0.4596 - val_accuracy: 0.8601\n",
            "Epoch 7/30\n",
            "27/27 [==============================] - 0s 3ms/step - loss: 0.5443 - accuracy: 0.8180 - val_loss: 0.4563 - val_accuracy: 0.8601\n",
            "Epoch 8/30\n",
            "27/27 [==============================] - 0s 3ms/step - loss: 0.5618 - accuracy: 0.8168 - val_loss: 0.4547 - val_accuracy: 0.8601\n",
            "Epoch 9/30\n",
            "27/27 [==============================] - 0s 4ms/step - loss: 0.5290 - accuracy: 0.8273 - val_loss: 0.4524 - val_accuracy: 0.8601\n",
            "Epoch 10/30\n",
            "27/27 [==============================] - 0s 4ms/step - loss: 0.5238 - accuracy: 0.8261 - val_loss: 0.4497 - val_accuracy: 0.8601\n",
            "Epoch 11/30\n",
            "27/27 [==============================] - 0s 3ms/step - loss: 0.5414 - accuracy: 0.8355 - val_loss: 0.4497 - val_accuracy: 0.8601\n",
            "Epoch 12/30\n",
            "27/27 [==============================] - 0s 3ms/step - loss: 0.5071 - accuracy: 0.8320 - val_loss: 0.4458 - val_accuracy: 0.8601\n",
            "Epoch 13/30\n",
            "27/27 [==============================] - 0s 4ms/step - loss: 0.4960 - accuracy: 0.8425 - val_loss: 0.4422 - val_accuracy: 0.8601\n",
            "Epoch 14/30\n",
            "27/27 [==============================] - 0s 3ms/step - loss: 0.4883 - accuracy: 0.8390 - val_loss: 0.4291 - val_accuracy: 0.8601\n",
            "Epoch 15/30\n",
            "27/27 [==============================] - 0s 3ms/step - loss: 0.4684 - accuracy: 0.8495 - val_loss: 0.4135 - val_accuracy: 0.8601\n",
            "Epoch 16/30\n",
            "27/27 [==============================] - 0s 4ms/step - loss: 0.4428 - accuracy: 0.8541 - val_loss: 0.4082 - val_accuracy: 0.8601\n",
            "Epoch 17/30\n",
            "27/27 [==============================] - 0s 3ms/step - loss: 0.4796 - accuracy: 0.8518 - val_loss: 0.4137 - val_accuracy: 0.8601\n",
            "Epoch 18/30\n",
            "27/27 [==============================] - 0s 4ms/step - loss: 0.4435 - accuracy: 0.8541 - val_loss: 0.4149 - val_accuracy: 0.8601\n",
            "Epoch 19/30\n",
            "27/27 [==============================] - 0s 3ms/step - loss: 0.4533 - accuracy: 0.8448 - val_loss: 0.4119 - val_accuracy: 0.8601\n",
            "Epoch 20/30\n",
            "27/27 [==============================] - 0s 4ms/step - loss: 0.4362 - accuracy: 0.8588 - val_loss: 0.4083 - val_accuracy: 0.8601\n",
            "Epoch 21/30\n",
            "27/27 [==============================] - 3s 103ms/step - loss: 0.4633 - accuracy: 0.8483 - val_loss: 0.4129 - val_accuracy: 0.8601\n",
            "Epoch 22/30\n",
            "27/27 [==============================] - 0s 4ms/step - loss: 0.4144 - accuracy: 0.8565 - val_loss: 0.4101 - val_accuracy: 0.8601\n",
            "Epoch 23/30\n",
            "27/27 [==============================] - 0s 3ms/step - loss: 0.4235 - accuracy: 0.8635 - val_loss: 0.4079 - val_accuracy: 0.8601\n",
            "Epoch 24/30\n",
            "27/27 [==============================] - 0s 4ms/step - loss: 0.4326 - accuracy: 0.8565 - val_loss: 0.4067 - val_accuracy: 0.8601\n",
            "Epoch 25/30\n",
            "27/27 [==============================] - 0s 4ms/step - loss: 0.4331 - accuracy: 0.8588 - val_loss: 0.4057 - val_accuracy: 0.8601\n",
            "Epoch 26/30\n",
            "27/27 [==============================] - 0s 4ms/step - loss: 0.4325 - accuracy: 0.8553 - val_loss: 0.4044 - val_accuracy: 0.8601\n",
            "Epoch 27/30\n",
            "27/27 [==============================] - 0s 5ms/step - loss: 0.4363 - accuracy: 0.8588 - val_loss: 0.4057 - val_accuracy: 0.8601\n",
            "Epoch 28/30\n",
            "27/27 [==============================] - 1s 40ms/step - loss: 0.4346 - accuracy: 0.8588 - val_loss: 0.4055 - val_accuracy: 0.8601\n",
            "Epoch 29/30\n",
            "27/27 [==============================] - 0s 3ms/step - loss: 0.4254 - accuracy: 0.8565 - val_loss: 0.4057 - val_accuracy: 0.8601\n",
            "Epoch 30/30\n",
            "27/27 [==============================] - 0s 4ms/step - loss: 0.4340 - accuracy: 0.8553 - val_loss: 0.4064 - val_accuracy: 0.8601\n"
          ]
        }
      ]
    },
    {
      "cell_type": "code",
      "source": [
        "model.summary()"
      ],
      "metadata": {
        "colab": {
          "base_uri": "https://localhost:8080/"
        },
        "id": "hhPF_cCh6QpX",
        "outputId": "f33ac810-b0ca-48f6-c511-5dfc6d5ffd70"
      },
      "execution_count": 77,
      "outputs": [
        {
          "output_type": "stream",
          "name": "stdout",
          "text": [
            "Model: \"sequential\"\n",
            "_________________________________________________________________\n",
            " Layer (type)                Output Shape              Param #   \n",
            "=================================================================\n",
            " dense (Dense)               (None, 12)                144       \n",
            "                                                                 \n",
            " dropout (Dropout)           (None, 12)                0         \n",
            "                                                                 \n",
            " dense_1 (Dense)             (None, 8)                 104       \n",
            "                                                                 \n",
            " dropout_1 (Dropout)         (None, 8)                 0         \n",
            "                                                                 \n",
            " dense_2 (Dense)             (None, 6)                 54        \n",
            "                                                                 \n",
            " dropout_2 (Dropout)         (None, 6)                 0         \n",
            "                                                                 \n",
            " dense_3 (Dense)             (None, 3)                 21        \n",
            "                                                                 \n",
            " dropout_3 (Dropout)         (None, 3)                 0         \n",
            "                                                                 \n",
            " dense_4 (Dense)             (None, 1)                 4         \n",
            "                                                                 \n",
            "=================================================================\n",
            "Total params: 327\n",
            "Trainable params: 327\n",
            "Non-trainable params: 0\n",
            "_________________________________________________________________\n"
          ]
        }
      ]
    },
    {
      "cell_type": "code",
      "source": [
        "#visualize the loss\n",
        "plt.plot(history.history['loss'], label='Train loss')\n",
        "plt.plot(history.history['val_loss'], label='Test Loss')\n",
        "plt.xlabel('Number of Epochs')\n",
        "plt.ylabel('Loss')\n",
        "plt.legend();"
      ],
      "metadata": {
        "colab": {
          "base_uri": "https://localhost:8080/",
          "height": 279
        },
        "id": "IamOMIaT6XlB",
        "outputId": "5ac77b0f-5628-4501-a185-f845b450201f"
      },
      "execution_count": 78,
      "outputs": [
        {
          "output_type": "display_data",
          "data": {
            "text/plain": [
              "<Figure size 432x288 with 1 Axes>"
            ],
            "image/png": "[encoded data removed]"
          },
          "metadata": {
            "needs_background": "light"
          }
        }
      ]
    },
    {
      "cell_type": "code",
      "source": [
        "test_preds = model.predict(X_test).round() \n",
        "print(classification_report(y_test, test_preds))\n",
        "cf = confusion_matrix(y_test, test_preds)\n",
        "sns.heatmap(cf, annot=True, cmap = 'Blues');"
      ],
      "metadata": {
        "colab": {
          "base_uri": "https://localhost:8080/",
          "height": 545
        },
        "id": "KsJc7G61cbww",
        "outputId": "22df84a4-98d1-4380-e993-ffbaf7fcf8ad"
      },
      "execution_count": 79,
      "outputs": [
        {
          "output_type": "stream",
          "name": "stderr",
          "text": [
            "/usr/local/lib/python3.7/dist-packages/sklearn/metrics/_classification.py:1318: UndefinedMetricWarning: Precision and F-score are ill-defined and being set to 0.0 in labels with no predicted samples. Use `zero_division` parameter to control this behavior.\n",
            "  _warn_prf(average, modifier, msg_start, len(result))\n",
            "/usr/local/lib/python3.7/dist-packages/sklearn/metrics/_classification.py:1318: UndefinedMetricWarning: Precision and F-score are ill-defined and being set to 0.0 in labels with no predicted samples. Use `zero_division` parameter to control this behavior.\n",
            "  _warn_prf(average, modifier, msg_start, len(result))\n",
            "/usr/local/lib/python3.7/dist-packages/sklearn/metrics/_classification.py:1318: UndefinedMetricWarning: Precision and F-score are ill-defined and being set to 0.0 in labels with no predicted samples. Use `zero_division` parameter to control this behavior.\n",
            "  _warn_prf(average, modifier, msg_start, len(result))\n"
          ]
        },
        {
          "output_type": "stream",
          "name": "stdout",
          "text": [
            "              precision    recall  f1-score   support\n",
            "\n",
            "           0       0.86      1.00      0.92       246\n",
            "           1       0.00      0.00      0.00        40\n",
            "\n",
            "    accuracy                           0.86       286\n",
            "   macro avg       0.43      0.50      0.46       286\n",
            "weighted avg       0.74      0.86      0.80       286\n",
            "\n"
          ]
        },
        {
          "output_type": "display_data",
          "data": {
            "text/plain": [
              "<Figure size 432x288 with 2 Axes>"
            ],
            "image/png": "[encoded data removed]"
          },
          "metadata": {
            "needs_background": "light"
          }
        }
      ]
    },
    {
      "cell_type": "code",
      "source": [
        "#first hidden layers\n",
        "model.add(Dense(20, input_dim = input_shape, activation = 'relu')) \n",
        "model.add(Dropout(.2))\n",
        "model.add(Dense(10, activation = 'relu'))\n",
        "model.add(Dropout(.2))\n",
        "model.add(Dense(5, activation = 'relu'))\n",
        "model.add(Dropout(.2))\n",
        "#output layer\n",
        "model.add(Dense(1, activation = 'sigmoid'))"
      ],
      "metadata": {
        "id": "SyEoKjPj5DI0"
      },
      "execution_count": 80,
      "outputs": []
    }
  ]
}